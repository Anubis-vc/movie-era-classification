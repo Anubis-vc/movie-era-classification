{
 "cells": [
  {
   "cell_type": "markdown",
   "id": "853b06a8",
   "metadata": {},
   "source": [
    "# Movie Era Classification\n",
    "\n",
    "Oftentimes, we arbitrarily categorize things based on a general vibe. Is there anything more substantial to the subdivisions of movie eras beyond a general aesthetic? Can we reliably distinguish the eras of movie making based solely on the posters or movie stills? I want to explore the aesthetics of different movie eras while learning new tools like PyTorch and Python Image Library for image classification and exploration. "
   ]
  },
  {
   "cell_type": "code",
   "execution_count": 1,
   "id": "13d9eed3",
   "metadata": {},
   "outputs": [],
   "source": [
    "import pandas as pd\n",
    "import matplotlib.pyplot as plt\n",
    "import seaborn as sns\n",
    "import os\n",
    "import numpy as np"
   ]
  },
  {
   "cell_type": "markdown",
   "id": "72ac5540",
   "metadata": {},
   "source": [
    "<h3><u>Data Exploration</u></h3>\n",
    "\n",
    "<h4>Metadata</h4>"
   ]
  },
  {
   "cell_type": "code",
   "execution_count": 2,
   "id": "24a5a8a3",
   "metadata": {},
   "outputs": [
    {
     "data": {
      "text/html": [
       "<div>\n",
       "<style scoped>\n",
       "    .dataframe tbody tr th:only-of-type {\n",
       "        vertical-align: middle;\n",
       "    }\n",
       "\n",
       "    .dataframe tbody tr th {\n",
       "        vertical-align: top;\n",
       "    }\n",
       "\n",
       "    .dataframe thead th {\n",
       "        text-align: right;\n",
       "    }\n",
       "</style>\n",
       "<table border=\"1\" class=\"dataframe\">\n",
       "  <thead>\n",
       "    <tr style=\"text-align: right;\">\n",
       "      <th></th>\n",
       "      <th>filename</th>\n",
       "      <th>title</th>\n",
       "      <th>release_year</th>\n",
       "    </tr>\n",
       "  </thead>\n",
       "  <tbody>\n",
       "    <tr>\n",
       "      <th>0</th>\n",
       "      <td>15.jpg</td>\n",
       "      <td>Citizen Kane</td>\n",
       "      <td>1941</td>\n",
       "    </tr>\n",
       "    <tr>\n",
       "      <th>1</th>\n",
       "      <td>16442.jpg</td>\n",
       "      <td>Sergeant York</td>\n",
       "      <td>1941</td>\n",
       "    </tr>\n",
       "    <tr>\n",
       "      <th>2</th>\n",
       "      <td>43266.jpg</td>\n",
       "      <td>How Green Was My Valley</td>\n",
       "      <td>1941</td>\n",
       "    </tr>\n",
       "    <tr>\n",
       "      <th>3</th>\n",
       "      <td>11462.jpg</td>\n",
       "      <td>Suspicion</td>\n",
       "      <td>1941</td>\n",
       "    </tr>\n",
       "    <tr>\n",
       "      <th>4</th>\n",
       "      <td>29884.jpg</td>\n",
       "      <td>Ball of Fire</td>\n",
       "      <td>1941</td>\n",
       "    </tr>\n",
       "  </tbody>\n",
       "</table>\n",
       "</div>"
      ],
      "text/plain": [
       "    filename                    title  release_year\n",
       "0     15.jpg             Citizen Kane          1941\n",
       "1  16442.jpg            Sergeant York          1941\n",
       "2  43266.jpg  How Green Was My Valley          1941\n",
       "3  11462.jpg                Suspicion          1941\n",
       "4  29884.jpg             Ball of Fire          1941"
      ]
     },
     "execution_count": 2,
     "metadata": {},
     "output_type": "execute_result"
    }
   ],
   "source": [
    "df = pd.read_csv('./data/metadata.csv')\n",
    "df.head()"
   ]
  },
  {
   "cell_type": "code",
   "execution_count": 3,
   "id": "8c1f5935",
   "metadata": {},
   "outputs": [
    {
     "name": "stdout",
     "output_type": "stream",
     "text": [
      "<class 'pandas.core.frame.DataFrame'>\n",
      "RangeIndex: 4700 entries, 0 to 4699\n",
      "Data columns (total 3 columns):\n",
      " #   Column        Non-Null Count  Dtype \n",
      "---  ------        --------------  ----- \n",
      " 0   filename      4700 non-null   object\n",
      " 1   title         4700 non-null   object\n",
      " 2   release_year  4700 non-null   int64 \n",
      "dtypes: int64(1), object(2)\n",
      "memory usage: 110.3+ KB\n"
     ]
    }
   ],
   "source": [
    "# should be no invalid data because of the way we pulled it, but checking anyway\n",
    "df.info()"
   ]
  },
  {
   "cell_type": "code",
   "execution_count": 4,
   "id": "3b7b8d8e",
   "metadata": {},
   "outputs": [
    {
     "data": {
      "image/png": "[encoded data removed]",
      "text/plain": [
       "<Figure size 640x480 with 1 Axes>"
      ]
     },
     "metadata": {},
     "output_type": "display_data"
    }
   ],
   "source": [
    "plt.hist(df['release_year'], edgecolor='black', linewidth=0.4)\n",
    "plt.title(\"Distribution of Movies by Year\")\n",
    "plt.xlabel(\"Year\")\n",
    "plt.ylabel(\"Num Movies\")\n",
    "plt.tight_layout()\n",
    "plt.show()"
   ]
  },
  {
   "cell_type": "markdown",
   "id": "13bd66ce",
   "metadata": {},
   "source": [
    "Kind of as expected, TMDB has much better capabilities for more recent and popular years, and some earlier years will have substantially less movies than later ones. We will try to account for this in our era subdivisions, but overall, we should be ok."
   ]
  },
  {
   "cell_type": "code",
   "execution_count": 5,
   "id": "9fa824d8",
   "metadata": {},
   "outputs": [
    {
     "data": {
      "text/plain": [
       "[]"
      ]
     },
     "execution_count": 5,
     "metadata": {},
     "output_type": "execute_result"
    }
   ],
   "source": [
    "# Let's also make sure each entry in the csv has a corresponding image\n",
    "res = []\n",
    "for filename in df['filename']:\n",
    "    if not os.path.exists(os.path.join(\"/Users/anubis/Desktop/Personal_Projects/movie-decade-classification/data/posters/\", filename)):\n",
    "        res.append(filename)\n",
    "res"
   ]
  },
  {
   "cell_type": "markdown",
   "id": "11ca8448",
   "metadata": {},
   "source": [
    "##### Defining Film Eras:\n",
    "Please check the <a href='https://github.com/Anubis-vc/movie-era-classification/blob/main/README.md'>README</a> for an in-depth discussion on how I chose these eras. As a reminder, I've attached the eras below:\n",
    "\n",
    "1. *The Golden Age of Hollywood (1939 - 1949)*\n",
    "\n",
    "2. *Post-War to New Hollywood Transition (1950 - 1966)*\n",
    "\n",
    "3. *New Hollywood (1967 - 1982)*\n",
    "\n",
    "4. *Blockbuster Era (1983 - 1994)*\n",
    "\n",
    "5. *Indie and Digital Era (1995 - 2006)*\n",
    "\n",
    "6. *Streaming and Superhero Era (2007 - 2017)*\n",
    "\n",
    "7. *Modern Era/Post-Streaming (2018 - Current)* "
   ]
  },
  {
   "cell_type": "code",
   "execution_count": 6,
   "id": "61dc2fbd",
   "metadata": {},
   "outputs": [
    {
     "data": {
      "text/plain": [
       "0        Golden Age\n",
       "1        Golden Age\n",
       "2        Golden Age\n",
       "3        Golden Age\n",
       "4        Golden Age\n",
       "           ...     \n",
       "4695    Current Era\n",
       "4696    Current Era\n",
       "4697    Current Era\n",
       "4698    Current Era\n",
       "4699    Current Era\n",
       "Name: temp, Length: 4700, dtype: object"
      ]
     },
     "execution_count": 6,
     "metadata": {},
     "output_type": "execute_result"
    }
   ],
   "source": [
    "def find_era(year: int) -> str:\n",
    "    if year < 1950:\n",
    "        return \"Golden Age\"\n",
    "    elif year < 1967:\n",
    "        return \"Post-War Transition\"\n",
    "    elif year < 1983:\n",
    "        return \"New Hollywood\"\n",
    "    elif year < 1995:\n",
    "        return \"Blockbuster Era\"\n",
    "    elif year < 2007:\n",
    "        return \"Digital Era\"\n",
    "    elif year < 2018:\n",
    "        return \"Franchise Era\"\n",
    "    else:\n",
    "        return \"Current Era\"\n",
    "    \n",
    "df['temp'] = df['release_year'].apply(lambda x: find_era(x))\n",
    "df['temp']"
   ]
  },
  {
   "cell_type": "markdown",
   "id": "54621069",
   "metadata": {},
   "source": [
    "Though our dataset is small, it's good practice to vectorize data transformations for efficiency. I'm going to use the numpy select function though there is probably a way to do this in pure pandas I am unfamiliar with."
   ]
  },
  {
   "cell_type": "code",
   "execution_count": 7,
   "id": "04554807",
   "metadata": {},
   "outputs": [
    {
     "data": {
      "text/html": [
       "<div>\n",
       "<style scoped>\n",
       "    .dataframe tbody tr th:only-of-type {\n",
       "        vertical-align: middle;\n",
       "    }\n",
       "\n",
       "    .dataframe tbody tr th {\n",
       "        vertical-align: top;\n",
       "    }\n",
       "\n",
       "    .dataframe thead th {\n",
       "        text-align: right;\n",
       "    }\n",
       "</style>\n",
       "<table border=\"1\" class=\"dataframe\">\n",
       "  <thead>\n",
       "    <tr style=\"text-align: right;\">\n",
       "      <th></th>\n",
       "      <th>filename</th>\n",
       "      <th>title</th>\n",
       "      <th>release_year</th>\n",
       "      <th>era</th>\n",
       "    </tr>\n",
       "  </thead>\n",
       "  <tbody>\n",
       "    <tr>\n",
       "      <th>0</th>\n",
       "      <td>15.jpg</td>\n",
       "      <td>Citizen Kane</td>\n",
       "      <td>1941</td>\n",
       "      <td>Golden Age</td>\n",
       "    </tr>\n",
       "    <tr>\n",
       "      <th>1</th>\n",
       "      <td>16442.jpg</td>\n",
       "      <td>Sergeant York</td>\n",
       "      <td>1941</td>\n",
       "      <td>Golden Age</td>\n",
       "    </tr>\n",
       "    <tr>\n",
       "      <th>2</th>\n",
       "      <td>43266.jpg</td>\n",
       "      <td>How Green Was My Valley</td>\n",
       "      <td>1941</td>\n",
       "      <td>Golden Age</td>\n",
       "    </tr>\n",
       "    <tr>\n",
       "      <th>3</th>\n",
       "      <td>11462.jpg</td>\n",
       "      <td>Suspicion</td>\n",
       "      <td>1941</td>\n",
       "      <td>Golden Age</td>\n",
       "    </tr>\n",
       "    <tr>\n",
       "      <th>4</th>\n",
       "      <td>29884.jpg</td>\n",
       "      <td>Ball of Fire</td>\n",
       "      <td>1941</td>\n",
       "      <td>Golden Age</td>\n",
       "    </tr>\n",
       "    <tr>\n",
       "      <th>...</th>\n",
       "      <td>...</td>\n",
       "      <td>...</td>\n",
       "      <td>...</td>\n",
       "      <td>...</td>\n",
       "    </tr>\n",
       "    <tr>\n",
       "      <th>4695</th>\n",
       "      <td>1012201.jpg</td>\n",
       "      <td>HAIKYU!! The Dumpster Battle</td>\n",
       "      <td>2024</td>\n",
       "      <td>Current Era</td>\n",
       "    </tr>\n",
       "    <tr>\n",
       "      <th>4696</th>\n",
       "      <td>1408921.jpg</td>\n",
       "      <td>moi.digital untitled Volume 3</td>\n",
       "      <td>2024</td>\n",
       "      <td>Current Era</td>\n",
       "    </tr>\n",
       "    <tr>\n",
       "      <th>4697</th>\n",
       "      <td>1300939.jpg</td>\n",
       "      <td>Verguizas Cabronas</td>\n",
       "      <td>2024</td>\n",
       "      <td>Current Era</td>\n",
       "    </tr>\n",
       "    <tr>\n",
       "      <th>4698</th>\n",
       "      <td>1292380.jpg</td>\n",
       "      <td>moi.digital untitled Volume 2</td>\n",
       "      <td>2024</td>\n",
       "      <td>Current Era</td>\n",
       "    </tr>\n",
       "    <tr>\n",
       "      <th>4699</th>\n",
       "      <td>1112426.jpg</td>\n",
       "      <td>Stree 2</td>\n",
       "      <td>2024</td>\n",
       "      <td>Current Era</td>\n",
       "    </tr>\n",
       "  </tbody>\n",
       "</table>\n",
       "<p>4700 rows × 4 columns</p>\n",
       "</div>"
      ],
      "text/plain": [
       "         filename                          title  release_year          era\n",
       "0          15.jpg                   Citizen Kane          1941   Golden Age\n",
       "1       16442.jpg                  Sergeant York          1941   Golden Age\n",
       "2       43266.jpg        How Green Was My Valley          1941   Golden Age\n",
       "3       11462.jpg                      Suspicion          1941   Golden Age\n",
       "4       29884.jpg                   Ball of Fire          1941   Golden Age\n",
       "...           ...                            ...           ...          ...\n",
       "4695  1012201.jpg   HAIKYU!! The Dumpster Battle          2024  Current Era\n",
       "4696  1408921.jpg  moi.digital untitled Volume 3          2024  Current Era\n",
       "4697  1300939.jpg             Verguizas Cabronas          2024  Current Era\n",
       "4698  1292380.jpg  moi.digital untitled Volume 2          2024  Current Era\n",
       "4699  1112426.jpg                        Stree 2          2024  Current Era\n",
       "\n",
       "[4700 rows x 4 columns]"
      ]
     },
     "execution_count": 7,
     "metadata": {},
     "output_type": "execute_result"
    }
   ],
   "source": [
    "# clean up previous step\n",
    "df.drop(columns=['temp'], inplace=True)\n",
    "\n",
    "conditions = [\n",
    "\tdf['release_year'] < 1950,\n",
    "    df['release_year'] < 1967,\n",
    "\tdf['release_year']< 1983,\n",
    " \tdf['release_year']< 1995,\n",
    "    df['release_year']<  2007,\n",
    "    df['release_year']< 2018\n",
    "]\n",
    "\n",
    "eras = [\"Golden Age\", \"Post-War Transition\", \"New Hollywood\", \"Blockbuster Era\", \"Digital Era\", \"Franchise Era\"]\n",
    "\n",
    "df['era'] = np.select(conditions, eras, default=\"Current Era\")\n",
    "df\n"
   ]
  },
  {
   "cell_type": "code",
   "execution_count": 8,
   "id": "c7ad1828",
   "metadata": {},
   "outputs": [
    {
     "data": {
      "image/png": "[encoded data removed]",
      "text/plain": [
       "<Figure size 700x400 with 1 Axes>"
      ]
     },
     "metadata": {},
     "output_type": "display_data"
    }
   ],
   "source": [
    "plt.figure(figsize=(7, 4))\n",
    "sns.countplot(data=df, x='era', edgecolor='black', linewidth=0.4)\n",
    "plt.title(\"Distribution of Movies by Era\")\n",
    "plt.xlabel(\"Era\")\n",
    "plt.ylabel(\"Num Movies\")\n",
    "plt.xticks(rotation=45, ha='right')\n",
    "plt.show()"
   ]
  },
  {
   "cell_type": "code",
   "execution_count": 9,
   "id": "96318b5d",
   "metadata": {},
   "outputs": [
    {
     "data": {
      "text/html": [
       "<div>\n",
       "<style scoped>\n",
       "    .dataframe tbody tr th:only-of-type {\n",
       "        vertical-align: middle;\n",
       "    }\n",
       "\n",
       "    .dataframe tbody tr th {\n",
       "        vertical-align: top;\n",
       "    }\n",
       "\n",
       "    .dataframe thead th {\n",
       "        text-align: right;\n",
       "    }\n",
       "</style>\n",
       "<table border=\"1\" class=\"dataframe\">\n",
       "  <thead>\n",
       "    <tr style=\"text-align: right;\">\n",
       "      <th></th>\n",
       "      <th>filename</th>\n",
       "      <th>title</th>\n",
       "      <th>release_year</th>\n",
       "      <th>era</th>\n",
       "      <th>era_label</th>\n",
       "    </tr>\n",
       "  </thead>\n",
       "  <tbody>\n",
       "    <tr>\n",
       "      <th>0</th>\n",
       "      <td>15.jpg</td>\n",
       "      <td>Citizen Kane</td>\n",
       "      <td>1941</td>\n",
       "      <td>Golden Age</td>\n",
       "      <td>0</td>\n",
       "    </tr>\n",
       "    <tr>\n",
       "      <th>1</th>\n",
       "      <td>16442.jpg</td>\n",
       "      <td>Sergeant York</td>\n",
       "      <td>1941</td>\n",
       "      <td>Golden Age</td>\n",
       "      <td>0</td>\n",
       "    </tr>\n",
       "    <tr>\n",
       "      <th>2</th>\n",
       "      <td>43266.jpg</td>\n",
       "      <td>How Green Was My Valley</td>\n",
       "      <td>1941</td>\n",
       "      <td>Golden Age</td>\n",
       "      <td>0</td>\n",
       "    </tr>\n",
       "    <tr>\n",
       "      <th>3</th>\n",
       "      <td>11462.jpg</td>\n",
       "      <td>Suspicion</td>\n",
       "      <td>1941</td>\n",
       "      <td>Golden Age</td>\n",
       "      <td>0</td>\n",
       "    </tr>\n",
       "    <tr>\n",
       "      <th>4</th>\n",
       "      <td>29884.jpg</td>\n",
       "      <td>Ball of Fire</td>\n",
       "      <td>1941</td>\n",
       "      <td>Golden Age</td>\n",
       "      <td>0</td>\n",
       "    </tr>\n",
       "    <tr>\n",
       "      <th>...</th>\n",
       "      <td>...</td>\n",
       "      <td>...</td>\n",
       "      <td>...</td>\n",
       "      <td>...</td>\n",
       "      <td>...</td>\n",
       "    </tr>\n",
       "    <tr>\n",
       "      <th>4695</th>\n",
       "      <td>1012201.jpg</td>\n",
       "      <td>HAIKYU!! The Dumpster Battle</td>\n",
       "      <td>2024</td>\n",
       "      <td>Current Era</td>\n",
       "      <td>6</td>\n",
       "    </tr>\n",
       "    <tr>\n",
       "      <th>4696</th>\n",
       "      <td>1408921.jpg</td>\n",
       "      <td>moi.digital untitled Volume 3</td>\n",
       "      <td>2024</td>\n",
       "      <td>Current Era</td>\n",
       "      <td>6</td>\n",
       "    </tr>\n",
       "    <tr>\n",
       "      <th>4697</th>\n",
       "      <td>1300939.jpg</td>\n",
       "      <td>Verguizas Cabronas</td>\n",
       "      <td>2024</td>\n",
       "      <td>Current Era</td>\n",
       "      <td>6</td>\n",
       "    </tr>\n",
       "    <tr>\n",
       "      <th>4698</th>\n",
       "      <td>1292380.jpg</td>\n",
       "      <td>moi.digital untitled Volume 2</td>\n",
       "      <td>2024</td>\n",
       "      <td>Current Era</td>\n",
       "      <td>6</td>\n",
       "    </tr>\n",
       "    <tr>\n",
       "      <th>4699</th>\n",
       "      <td>1112426.jpg</td>\n",
       "      <td>Stree 2</td>\n",
       "      <td>2024</td>\n",
       "      <td>Current Era</td>\n",
       "      <td>6</td>\n",
       "    </tr>\n",
       "  </tbody>\n",
       "</table>\n",
       "<p>4700 rows × 5 columns</p>\n",
       "</div>"
      ],
      "text/plain": [
       "         filename                          title  release_year          era  \\\n",
       "0          15.jpg                   Citizen Kane          1941   Golden Age   \n",
       "1       16442.jpg                  Sergeant York          1941   Golden Age   \n",
       "2       43266.jpg        How Green Was My Valley          1941   Golden Age   \n",
       "3       11462.jpg                      Suspicion          1941   Golden Age   \n",
       "4       29884.jpg                   Ball of Fire          1941   Golden Age   \n",
       "...           ...                            ...           ...          ...   \n",
       "4695  1012201.jpg   HAIKYU!! The Dumpster Battle          2024  Current Era   \n",
       "4696  1408921.jpg  moi.digital untitled Volume 3          2024  Current Era   \n",
       "4697  1300939.jpg             Verguizas Cabronas          2024  Current Era   \n",
       "4698  1292380.jpg  moi.digital untitled Volume 2          2024  Current Era   \n",
       "4699  1112426.jpg                        Stree 2          2024  Current Era   \n",
       "\n",
       "      era_label  \n",
       "0             0  \n",
       "1             0  \n",
       "2             0  \n",
       "3             0  \n",
       "4             0  \n",
       "...         ...  \n",
       "4695          6  \n",
       "4696          6  \n",
       "4697          6  \n",
       "4698          6  \n",
       "4699          6  \n",
       "\n",
       "[4700 rows x 5 columns]"
      ]
     },
     "execution_count": 9,
     "metadata": {},
     "output_type": "execute_result"
    }
   ],
   "source": [
    "era_to_int = {\n",
    "    \"Golden Age\": 0,\n",
    "    \"Post-War Transition\": 1,\n",
    "    \"New Hollywood\": 2,\n",
    "    \"Blockbuster Era\": 3,\n",
    "    \"Digital Era\": 4,\n",
    "    \"Franchise Era\": 5,\n",
    "    \"Current Era\": 6\n",
    "}\n",
    "\n",
    "df['era_label'] = df['era'].map(era_to_int)\n",
    "df"
   ]
  },
  {
   "cell_type": "code",
   "execution_count": 10,
   "id": "c8dcd298",
   "metadata": {},
   "outputs": [
    {
     "name": "stdout",
     "output_type": "stream",
     "text": [
      "105\n"
     ]
    },
    {
     "data": {
      "text/html": [
       "<div>\n",
       "<style scoped>\n",
       "    .dataframe tbody tr th:only-of-type {\n",
       "        vertical-align: middle;\n",
       "    }\n",
       "\n",
       "    .dataframe tbody tr th {\n",
       "        vertical-align: top;\n",
       "    }\n",
       "\n",
       "    .dataframe thead th {\n",
       "        text-align: right;\n",
       "    }\n",
       "</style>\n",
       "<table border=\"1\" class=\"dataframe\">\n",
       "  <thead>\n",
       "    <tr style=\"text-align: right;\">\n",
       "      <th></th>\n",
       "      <th>filename</th>\n",
       "      <th>title</th>\n",
       "      <th>release_year</th>\n",
       "      <th>era</th>\n",
       "      <th>era_label</th>\n",
       "    </tr>\n",
       "  </thead>\n",
       "  <tbody>\n",
       "    <tr>\n",
       "      <th>186</th>\n",
       "      <td>787118.jpg</td>\n",
       "      <td>Rope</td>\n",
       "      <td>1947</td>\n",
       "      <td>Golden Age</td>\n",
       "      <td>0</td>\n",
       "    </tr>\n",
       "    <tr>\n",
       "      <th>761</th>\n",
       "      <td>1484868.jpg</td>\n",
       "      <td>To Catch a Thief</td>\n",
       "      <td>1958</td>\n",
       "      <td>Post-War Transition</td>\n",
       "      <td>1</td>\n",
       "    </tr>\n",
       "    <tr>\n",
       "      <th>893</th>\n",
       "      <td>686487.jpg</td>\n",
       "      <td>King Kong vs. Godzilla</td>\n",
       "      <td>1963</td>\n",
       "      <td>Post-War Transition</td>\n",
       "      <td>1</td>\n",
       "    </tr>\n",
       "    <tr>\n",
       "      <th>1250</th>\n",
       "      <td>10784.jpg</td>\n",
       "      <td>Cabaret</td>\n",
       "      <td>1972</td>\n",
       "      <td>New Hollywood</td>\n",
       "      <td>2</td>\n",
       "    </tr>\n",
       "    <tr>\n",
       "      <th>1335</th>\n",
       "      <td>141526.jpg</td>\n",
       "      <td>Fanny Hill</td>\n",
       "      <td>1968</td>\n",
       "      <td>New Hollywood</td>\n",
       "      <td>2</td>\n",
       "    </tr>\n",
       "    <tr>\n",
       "      <th>...</th>\n",
       "      <td>...</td>\n",
       "      <td>...</td>\n",
       "      <td>...</td>\n",
       "      <td>...</td>\n",
       "      <td>...</td>\n",
       "    </tr>\n",
       "    <tr>\n",
       "      <th>4500</th>\n",
       "      <td>505026.jpg</td>\n",
       "      <td>Death on the Nile</td>\n",
       "      <td>2022</td>\n",
       "      <td>Current Era</td>\n",
       "      <td>6</td>\n",
       "    </tr>\n",
       "    <tr>\n",
       "      <th>4530</th>\n",
       "      <td>447277.jpg</td>\n",
       "      <td>The Little Mermaid</td>\n",
       "      <td>2023</td>\n",
       "      <td>Current Era</td>\n",
       "      <td>6</td>\n",
       "    </tr>\n",
       "    <tr>\n",
       "      <th>4584</th>\n",
       "      <td>552524.jpg</td>\n",
       "      <td>Lilo &amp; Stitch</td>\n",
       "      <td>2025</td>\n",
       "      <td>Current Era</td>\n",
       "      <td>6</td>\n",
       "    </tr>\n",
       "    <tr>\n",
       "      <th>4612</th>\n",
       "      <td>1087192.jpg</td>\n",
       "      <td>How to Train Your Dragon</td>\n",
       "      <td>2025</td>\n",
       "      <td>Current Era</td>\n",
       "      <td>6</td>\n",
       "    </tr>\n",
       "    <tr>\n",
       "      <th>4693</th>\n",
       "      <td>673593.jpg</td>\n",
       "      <td>Mean Girls</td>\n",
       "      <td>2024</td>\n",
       "      <td>Current Era</td>\n",
       "      <td>6</td>\n",
       "    </tr>\n",
       "  </tbody>\n",
       "</table>\n",
       "<p>105 rows × 5 columns</p>\n",
       "</div>"
      ],
      "text/plain": [
       "         filename                     title  release_year  \\\n",
       "186    787118.jpg                      Rope          1947   \n",
       "761   1484868.jpg          To Catch a Thief          1958   \n",
       "893    686487.jpg    King Kong vs. Godzilla          1963   \n",
       "1250    10784.jpg                   Cabaret          1972   \n",
       "1335   141526.jpg                Fanny Hill          1968   \n",
       "...           ...                       ...           ...   \n",
       "4500   505026.jpg         Death on the Nile          2022   \n",
       "4530   447277.jpg        The Little Mermaid          2023   \n",
       "4584   552524.jpg             Lilo & Stitch          2025   \n",
       "4612  1087192.jpg  How to Train Your Dragon          2025   \n",
       "4693   673593.jpg                Mean Girls          2024   \n",
       "\n",
       "                      era  era_label  \n",
       "186            Golden Age          0  \n",
       "761   Post-War Transition          1  \n",
       "893   Post-War Transition          1  \n",
       "1250        New Hollywood          2  \n",
       "1335        New Hollywood          2  \n",
       "...                   ...        ...  \n",
       "4500          Current Era          6  \n",
       "4530          Current Era          6  \n",
       "4584          Current Era          6  \n",
       "4612          Current Era          6  \n",
       "4693          Current Era          6  \n",
       "\n",
       "[105 rows x 5 columns]"
      ]
     },
     "execution_count": 10,
     "metadata": {},
     "output_type": "execute_result"
    }
   ],
   "source": [
    "# let's check for duplicate titles in case\n",
    "df.sort_values(by='release_year')\n",
    "duplicated = df.duplicated(subset=['title'])\n",
    "print(np.sum(duplicated))\n",
    "\n",
    "# by default, grabbing the latest duplicate title\n",
    "latest_dups = df[duplicated]\n",
    "latest_dups"
   ]
  },
  {
   "cell_type": "markdown",
   "id": "5c9b7b86",
   "metadata": {},
   "source": [
    "It seems like these duplicates come from remakes sharing the same name. We can check this easily by taking a subset of title and year instead. Just for fun, let's also see when most of these remakes are from."
   ]
  },
  {
   "cell_type": "code",
   "execution_count": 11,
   "id": "79821307",
   "metadata": {},
   "outputs": [
    {
     "data": {
      "text/plain": [
       "0"
      ]
     },
     "execution_count": 11,
     "metadata": {},
     "output_type": "execute_result"
    }
   ],
   "source": [
    "np.sum(df.duplicated(subset=['title', 'release_year']))"
   ]
  },
  {
   "cell_type": "code",
   "execution_count": 12,
   "id": "cb3c0add",
   "metadata": {},
   "outputs": [
    {
     "data": {
      "image/png": "[encoded data removed]",
      "text/plain": [
       "<Figure size 640x480 with 1 Axes>"
      ]
     },
     "metadata": {},
     "output_type": "display_data"
    }
   ],
   "source": [
    "sns.countplot(data=latest_dups, x='era', edgecolor='black', linewidth=0.4)\n",
    "plt.title(\"Remakes by Era\")\n",
    "plt.xlabel(\"Era\")\n",
    "plt.ylabel(\"Num Remakes\")\n",
    "plt.xticks(rotation=45, ha='right')\n",
    "plt.show()"
   ]
  },
  {
   "cell_type": "code",
   "execution_count": 13,
   "id": "33cf2e6a",
   "metadata": {},
   "outputs": [
    {
     "data": {
      "text/plain": [
       "Golden Age             0.002660\n",
       "Post-War Transition    0.003645\n",
       "New Hollywood          0.011931\n",
       "Blockbuster Era        0.013889\n",
       "Digital Era            0.044444\n",
       "Franchise Era          0.043939\n",
       "Current Era            0.039666\n",
       "Name: era, dtype: float64"
      ]
     },
     "execution_count": 13,
     "metadata": {},
     "output_type": "execute_result"
    }
   ],
   "source": [
    "# since total counts are different, let's find proportions instead\n",
    "era_order = df['era'].drop_duplicates().tolist()\n",
    "era_counts = df['era'].value_counts().reindex(era_order)\n",
    "remake_counts = latest_dups['era'].value_counts().reindex(era_order)\n",
    "\n",
    "proportions = (remake_counts / era_counts)\n",
    "proportions"
   ]
  },
  {
   "cell_type": "code",
   "execution_count": 14,
   "id": "603af128",
   "metadata": {},
   "outputs": [
    {
     "data": {
      "image/png": "[encoded data removed]",
      "text/plain": [
       "<Figure size 600x400 with 1 Axes>"
      ]
     },
     "metadata": {},
     "output_type": "display_data"
    }
   ],
   "source": [
    "plt.figure(figsize=(6,4))\n",
    "proportions.plot(kind='bar',\n",
    "                 edgecolor='black',\n",
    "                 linewidth=0.4,\n",
    "                 xlabel='Era',\n",
    "                 ylabel='Proportion',\n",
    "                 title='Proportion of Remakes by Era')\n",
    "plt.xticks(rotation=45, ha='right')\n",
    "plt.show()"
   ]
  },
  {
   "cell_type": "markdown",
   "id": "31c7c8dc",
   "metadata": {},
   "source": [
    "So clearly, the prevalence of remakes is something recent which does make sense: you have to have something to remake before you can remake it. That concludes some preliminary transformation of the metadata.\n",
    "\n",
    "Let's also see if we can glean anything from the image data before we use it. "
   ]
  },
  {
   "cell_type": "markdown",
   "id": "95ba2dde",
   "metadata": {},
   "source": [
    "<h4>Images</h4>"
   ]
  },
  {
   "cell_type": "markdown",
   "id": "fd8455e8",
   "metadata": {},
   "source": []
  }
 ],
 "metadata": {
  "kernelspec": {
   "display_name": "base",
   "language": "python",
   "name": "python3"
  },
  "language_info": {
   "codemirror_mode": {
    "name": "ipython",
    "version": 3
   },
   "file_extension": ".py",
   "mimetype": "text/x-python",
   "name": "python",
   "nbconvert_exporter": "python",
   "pygments_lexer": "ipython3",
   "version": "3.9.13"
  }
 },
 "nbformat": 4,
 "nbformat_minor": 5
}
