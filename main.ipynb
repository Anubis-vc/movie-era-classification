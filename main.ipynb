{
 "cells": [
  {
   "cell_type": "markdown",
   "id": "853b06a8",
   "metadata": {},
   "source": [
    "# Movie Classification\n",
    "\n",
    "Oftentimes, we arbitrarily categorize things based on a general vibe. Is there anything more substantial to the subdivisions of movie eras beyond a general aesthetic? Can we reliably distinguish the eras of movie making based solely on the posters or movie stills? I want to explore the aesthetics of different movie eras while learning new tools like PyTorch and Python Image Library for image classification and exploration. "
   ]
  },
  {
   "cell_type": "code",
   "execution_count": null,
   "id": "13d9eed3",
   "metadata": {},
   "outputs": [],
   "source": [
    "%matplotlib inline\n",
    "\n",
    "import pandas as pd\n",
    "import matplotlib.pyplot as plt\n",
    "import seaborn as sns\n",
    "import os\n",
    "import numpy as np\n",
    "from collections import Counter\n",
    "from tqdm import tqdm\n",
    "\n",
    "# for image exploration\n",
    "from easyimages import EasyImageList\n",
    "from PIL import Image\n",
    "\n",
    "# torch\n",
    "import torch\n",
    "from torch.utils.data import Dataset, DataLoader, random_split\n",
    "from torchvision import transforms\n",
    "import torch.nn as nn\n",
    "import torch.optim as optim\n",
    "import torch.nn.functional as F"
   ]
  },
  {
   "cell_type": "markdown",
   "id": "72ac5540",
   "metadata": {},
   "source": [
    "<h2><u>Data Exploration</u></h2>\n",
    "\n",
    "<h3>Metadata</h3>"
   ]
  },
  {
   "cell_type": "code",
   "execution_count": 2,
   "id": "24a5a8a3",
   "metadata": {},
   "outputs": [
    {
     "data": {
      "text/html": [
       "<div>\n",
       "<style scoped>\n",
       "    .dataframe tbody tr th:only-of-type {\n",
       "        vertical-align: middle;\n",
       "    }\n",
       "\n",
       "    .dataframe tbody tr th {\n",
       "        vertical-align: top;\n",
       "    }\n",
       "\n",
       "    .dataframe thead th {\n",
       "        text-align: right;\n",
       "    }\n",
       "</style>\n",
       "<table border=\"1\" class=\"dataframe\">\n",
       "  <thead>\n",
       "    <tr style=\"text-align: right;\">\n",
       "      <th></th>\n",
       "      <th>filename</th>\n",
       "      <th>title</th>\n",
       "      <th>release_year</th>\n",
       "      <th>genres</th>\n",
       "    </tr>\n",
       "  </thead>\n",
       "  <tbody>\n",
       "    <tr>\n",
       "      <th>0</th>\n",
       "      <td>346.jpg</td>\n",
       "      <td>Seven Samurai</td>\n",
       "      <td>1954</td>\n",
       "      <td>[28, 18]</td>\n",
       "    </tr>\n",
       "    <tr>\n",
       "      <th>1</th>\n",
       "      <td>567.jpg</td>\n",
       "      <td>Rear Window</td>\n",
       "      <td>1954</td>\n",
       "      <td>[53, 9648]</td>\n",
       "    </tr>\n",
       "    <tr>\n",
       "      <th>2</th>\n",
       "      <td>173.jpg</td>\n",
       "      <td>20,000 Leagues Under the Sea</td>\n",
       "      <td>1954</td>\n",
       "      <td>[12, 878, 10751]</td>\n",
       "    </tr>\n",
       "    <tr>\n",
       "      <th>3</th>\n",
       "      <td>43332.jpg</td>\n",
       "      <td>Demetrius and the Gladiators</td>\n",
       "      <td>1954</td>\n",
       "      <td>[12, 36, 18]</td>\n",
       "    </tr>\n",
       "    <tr>\n",
       "      <th>4</th>\n",
       "      <td>10178.jpg</td>\n",
       "      <td>The Caine Mutiny</td>\n",
       "      <td>1954</td>\n",
       "      <td>[18, 10752]</td>\n",
       "    </tr>\n",
       "  </tbody>\n",
       "</table>\n",
       "</div>"
      ],
      "text/plain": [
       "    filename                         title  release_year            genres\n",
       "0    346.jpg                 Seven Samurai          1954          [28, 18]\n",
       "1    567.jpg                   Rear Window          1954        [53, 9648]\n",
       "2    173.jpg  20,000 Leagues Under the Sea          1954  [12, 878, 10751]\n",
       "3  43332.jpg  Demetrius and the Gladiators          1954      [12, 36, 18]\n",
       "4  10178.jpg              The Caine Mutiny          1954       [18, 10752]"
      ]
     },
     "execution_count": 2,
     "metadata": {},
     "output_type": "execute_result"
    }
   ],
   "source": [
    "df = pd.read_csv('./data/metadata.csv')\n",
    "df.head()"
   ]
  },
  {
   "cell_type": "code",
   "execution_count": 3,
   "id": "8c1f5935",
   "metadata": {},
   "outputs": [
    {
     "name": "stdout",
     "output_type": "stream",
     "text": [
      "<class 'pandas.core.frame.DataFrame'>\n",
      "RangeIndex: 6063 entries, 0 to 6062\n",
      "Data columns (total 4 columns):\n",
      " #   Column        Non-Null Count  Dtype \n",
      "---  ------        --------------  ----- \n",
      " 0   filename      6063 non-null   object\n",
      " 1   title         6063 non-null   object\n",
      " 2   release_year  6063 non-null   int64 \n",
      " 3   genres        6063 non-null   object\n",
      "dtypes: int64(1), object(3)\n",
      "memory usage: 189.6+ KB\n"
     ]
    }
   ],
   "source": [
    "# should be no invalid data because of the way we pulled it, but checking anyway\n",
    "df.info()"
   ]
  },
  {
   "cell_type": "code",
   "execution_count": 4,
   "id": "3b7b8d8e",
   "metadata": {},
   "outputs": [
    {
     "name": "stderr",
     "output_type": "stream",
     "text": [
      "/var/folders/vq/1vm3d1qd40dc31fh9jl7k1fc0000gn/T/ipykernel_31197/383055285.py:6: UserWarning: FigureCanvasAgg is non-interactive, and thus cannot be shown\n",
      "  plt.show()\n"
     ]
    }
   ],
   "source": [
    "plt.hist(df['release_year'], edgecolor='black', linewidth=0.4)\n",
    "plt.title(\"Distribution of Movies by Year\")\n",
    "plt.xlabel(\"Year\")\n",
    "plt.ylabel(\"Num Movies\")\n",
    "plt.tight_layout()\n",
    "plt.show()"
   ]
  },
  {
   "cell_type": "markdown",
   "id": "13bd66ce",
   "metadata": {},
   "source": [
    "Kind of as expected, TMDB has much better capabilities for more recent and popular years, and some earlier years will have substantially less movies than later ones. We will try to account for this in our era subdivisions, but overall, we should be ok."
   ]
  },
  {
   "cell_type": "code",
   "execution_count": 5,
   "id": "9fa824d8",
   "metadata": {},
   "outputs": [
    {
     "data": {
      "text/plain": [
       "[]"
      ]
     },
     "execution_count": 5,
     "metadata": {},
     "output_type": "execute_result"
    }
   ],
   "source": [
    "# Let's also make sure each entry in the csv has a corresponding image\n",
    "res = []\n",
    "for filename in df['filename']:\n",
    "    if not os.path.exists(os.path.join(\"/Users/anubis/Desktop/Personal_Projects/movie-decade-classification/data/posters/\", filename)):\n",
    "        res.append(filename)\n",
    "res"
   ]
  },
  {
   "cell_type": "markdown",
   "id": "11ca8448",
   "metadata": {},
   "source": [
    "##### Defining Film Eras:\n",
    "Please check the <a href='https://github.com/Anubis-vc/movie-era-classification/blob/main/README.md'>README</a> for an in-depth discussion on how I chose these eras. As a reminder, I've attached the eras below:\n",
    "\n",
    "1. *The Golden Age of Hollywood (1939 - 1949)*\n",
    "\n",
    "2. *Post-War to New Hollywood Transition (1950 - 1966)*\n",
    "\n",
    "3. *New Hollywood (1967 - 1982)*\n",
    "\n",
    "4. *Blockbuster Era (1983 - 1994)*\n",
    "\n",
    "5. *Indie and Digital Era (1995 - 2006)*\n",
    "\n",
    "6. *Streaming and Superhero Era (2007 - 2017)*\n",
    "\n",
    "7. *Modern Era/Post-Streaming (2018 - Current)* "
   ]
  },
  {
   "cell_type": "code",
   "execution_count": 6,
   "id": "04554807",
   "metadata": {},
   "outputs": [
    {
     "data": {
      "text/html": [
       "<div>\n",
       "<style scoped>\n",
       "    .dataframe tbody tr th:only-of-type {\n",
       "        vertical-align: middle;\n",
       "    }\n",
       "\n",
       "    .dataframe tbody tr th {\n",
       "        vertical-align: top;\n",
       "    }\n",
       "\n",
       "    .dataframe thead th {\n",
       "        text-align: right;\n",
       "    }\n",
       "</style>\n",
       "<table border=\"1\" class=\"dataframe\">\n",
       "  <thead>\n",
       "    <tr style=\"text-align: right;\">\n",
       "      <th></th>\n",
       "      <th>filename</th>\n",
       "      <th>title</th>\n",
       "      <th>release_year</th>\n",
       "      <th>genres</th>\n",
       "      <th>era</th>\n",
       "    </tr>\n",
       "  </thead>\n",
       "  <tbody>\n",
       "    <tr>\n",
       "      <th>277</th>\n",
       "      <td>36488.jpg</td>\n",
       "      <td>Bachelor Mother</td>\n",
       "      <td>1939</td>\n",
       "      <td>[35, 10749]</td>\n",
       "      <td>Golden Age</td>\n",
       "    </tr>\n",
       "    <tr>\n",
       "      <th>286</th>\n",
       "      <td>1504381.jpg</td>\n",
       "      <td>Brazil: 1st Part</td>\n",
       "      <td>1939</td>\n",
       "      <td>[]</td>\n",
       "      <td>Golden Age</td>\n",
       "    </tr>\n",
       "    <tr>\n",
       "      <th>285</th>\n",
       "      <td>1504385.jpg</td>\n",
       "      <td>Brazil: 2nd Part</td>\n",
       "      <td>1939</td>\n",
       "      <td>[99]</td>\n",
       "      <td>Golden Age</td>\n",
       "    </tr>\n",
       "    <tr>\n",
       "      <th>270</th>\n",
       "      <td>630.jpg</td>\n",
       "      <td>The Wizard of Oz</td>\n",
       "      <td>1939</td>\n",
       "      <td>[12, 14, 10751]</td>\n",
       "      <td>Golden Age</td>\n",
       "    </tr>\n",
       "    <tr>\n",
       "      <th>283</th>\n",
       "      <td>1511845.jpg</td>\n",
       "      <td>Sitara</td>\n",
       "      <td>1939</td>\n",
       "      <td>[]</td>\n",
       "      <td>Golden Age</td>\n",
       "    </tr>\n",
       "    <tr>\n",
       "      <th>...</th>\n",
       "      <td>...</td>\n",
       "      <td>...</td>\n",
       "      <td>...</td>\n",
       "      <td>...</td>\n",
       "      <td>...</td>\n",
       "    </tr>\n",
       "    <tr>\n",
       "      <th>5798</th>\n",
       "      <td>1049082.jpg</td>\n",
       "      <td>Jumbo</td>\n",
       "      <td>2025</td>\n",
       "      <td>[16, 35, 18, 10751, 14]</td>\n",
       "      <td>Current Era</td>\n",
       "    </tr>\n",
       "    <tr>\n",
       "      <th>5799</th>\n",
       "      <td>1380393.jpg</td>\n",
       "      <td>The Chosen: Last Supper Part 1</td>\n",
       "      <td>2025</td>\n",
       "      <td>[18]</td>\n",
       "      <td>Current Era</td>\n",
       "    </tr>\n",
       "    <tr>\n",
       "      <th>5800</th>\n",
       "      <td>1257960.jpg</td>\n",
       "      <td>Sikandar</td>\n",
       "      <td>2025</td>\n",
       "      <td>[28, 18]</td>\n",
       "      <td>Current Era</td>\n",
       "    </tr>\n",
       "    <tr>\n",
       "      <th>5782</th>\n",
       "      <td>1139695.jpg</td>\n",
       "      <td>She's Got No Name</td>\n",
       "      <td>2025</td>\n",
       "      <td>[18, 80]</td>\n",
       "      <td>Current Era</td>\n",
       "    </tr>\n",
       "    <tr>\n",
       "      <th>5804</th>\n",
       "      <td>1137759.jpg</td>\n",
       "      <td>God Save the Tuche</td>\n",
       "      <td>2025</td>\n",
       "      <td>[35]</td>\n",
       "      <td>Current Era</td>\n",
       "    </tr>\n",
       "  </tbody>\n",
       "</table>\n",
       "<p>6063 rows × 5 columns</p>\n",
       "</div>"
      ],
      "text/plain": [
       "         filename                           title  release_year  \\\n",
       "277     36488.jpg                 Bachelor Mother          1939   \n",
       "286   1504381.jpg                Brazil: 1st Part          1939   \n",
       "285   1504385.jpg                Brazil: 2nd Part          1939   \n",
       "270       630.jpg                The Wizard of Oz          1939   \n",
       "283   1511845.jpg                          Sitara          1939   \n",
       "...           ...                             ...           ...   \n",
       "5798  1049082.jpg                           Jumbo          2025   \n",
       "5799  1380393.jpg  The Chosen: Last Supper Part 1          2025   \n",
       "5800  1257960.jpg                        Sikandar          2025   \n",
       "5782  1139695.jpg               She's Got No Name          2025   \n",
       "5804  1137759.jpg              God Save the Tuche          2025   \n",
       "\n",
       "                       genres          era  \n",
       "277               [35, 10749]   Golden Age  \n",
       "286                        []   Golden Age  \n",
       "285                      [99]   Golden Age  \n",
       "270           [12, 14, 10751]   Golden Age  \n",
       "283                        []   Golden Age  \n",
       "...                       ...          ...  \n",
       "5798  [16, 35, 18, 10751, 14]  Current Era  \n",
       "5799                     [18]  Current Era  \n",
       "5800                 [28, 18]  Current Era  \n",
       "5782                 [18, 80]  Current Era  \n",
       "5804                     [35]  Current Era  \n",
       "\n",
       "[6063 rows x 5 columns]"
      ]
     },
     "execution_count": 6,
     "metadata": {},
     "output_type": "execute_result"
    }
   ],
   "source": [
    "df.sort_values(by=['release_year'], inplace=True)\n",
    "conditions = [\n",
    "\tdf['release_year'] < 1950,\n",
    "    df['release_year'] < 1967,\n",
    "\tdf['release_year']< 1983,\n",
    " \tdf['release_year']< 1995,\n",
    "    df['release_year']<  2007,\n",
    "    df['release_year']< 2018\n",
    "]\n",
    "\n",
    "eras = [\"Golden Age\", \"Post-War Transition\", \"New Hollywood\", \"Blockbuster Era\", \"Digital Era\", \"Franchise Era\"]\n",
    "\n",
    "df['era'] = np.select(conditions, eras, default=\"Current Era\")\n",
    "df\n"
   ]
  },
  {
   "cell_type": "code",
   "execution_count": 7,
   "id": "c7ad1828",
   "metadata": {},
   "outputs": [
    {
     "name": "stderr",
     "output_type": "stream",
     "text": [
      "/var/folders/vq/1vm3d1qd40dc31fh9jl7k1fc0000gn/T/ipykernel_31197/718476083.py:7: UserWarning: FigureCanvasAgg is non-interactive, and thus cannot be shown\n",
      "  plt.show()\n"
     ]
    }
   ],
   "source": [
    "plt.figure(figsize=(7, 4))\n",
    "sns.countplot(data=df, x='era', edgecolor='black', linewidth=0.4)\n",
    "plt.title(\"Distribution of Movies by Era\")\n",
    "plt.xlabel(\"Era\")\n",
    "plt.ylabel(\"Num Movies\")\n",
    "plt.xticks(rotation=45, ha='right')\n",
    "plt.show()"
   ]
  },
  {
   "cell_type": "code",
   "execution_count": 8,
   "id": "c8dcd298",
   "metadata": {},
   "outputs": [
    {
     "name": "stdout",
     "output_type": "stream",
     "text": [
      "154\n"
     ]
    },
    {
     "data": {
      "text/html": [
       "<div>\n",
       "<style scoped>\n",
       "    .dataframe tbody tr th:only-of-type {\n",
       "        vertical-align: middle;\n",
       "    }\n",
       "\n",
       "    .dataframe tbody tr th {\n",
       "        vertical-align: top;\n",
       "    }\n",
       "\n",
       "    .dataframe thead th {\n",
       "        text-align: right;\n",
       "    }\n",
       "</style>\n",
       "<table border=\"1\" class=\"dataframe\">\n",
       "  <thead>\n",
       "    <tr style=\"text-align: right;\">\n",
       "      <th></th>\n",
       "      <th>filename</th>\n",
       "      <th>title</th>\n",
       "      <th>release_year</th>\n",
       "      <th>genres</th>\n",
       "      <th>era</th>\n",
       "    </tr>\n",
       "  </thead>\n",
       "  <tbody>\n",
       "    <tr>\n",
       "      <th>125</th>\n",
       "      <td>1580.jpg</td>\n",
       "      <td>Rope</td>\n",
       "      <td>1948</td>\n",
       "      <td>[53, 80, 18]</td>\n",
       "      <td>Golden Age</td>\n",
       "    </tr>\n",
       "    <tr>\n",
       "      <th>58</th>\n",
       "      <td>1506593.jpg</td>\n",
       "      <td>Rebecca</td>\n",
       "      <td>1950</td>\n",
       "      <td>[10749]</td>\n",
       "      <td>Post-War Transition</td>\n",
       "    </tr>\n",
       "    <tr>\n",
       "      <th>543</th>\n",
       "      <td>1426786.jpg</td>\n",
       "      <td>USSR Air Fleet Day</td>\n",
       "      <td>1951</td>\n",
       "      <td>[99]</td>\n",
       "      <td>Post-War Transition</td>\n",
       "    </tr>\n",
       "    <tr>\n",
       "      <th>224</th>\n",
       "      <td>1426806.jpg</td>\n",
       "      <td>USSR Air Fleet Day</td>\n",
       "      <td>1952</td>\n",
       "      <td>[99]</td>\n",
       "      <td>Post-War Transition</td>\n",
       "    </tr>\n",
       "    <tr>\n",
       "      <th>880</th>\n",
       "      <td>1484868.jpg</td>\n",
       "      <td>To Catch a Thief</td>\n",
       "      <td>1958</td>\n",
       "      <td>[18, 80]</td>\n",
       "      <td>Post-War Transition</td>\n",
       "    </tr>\n",
       "    <tr>\n",
       "      <th>...</th>\n",
       "      <td>...</td>\n",
       "      <td>...</td>\n",
       "      <td>...</td>\n",
       "      <td>...</td>\n",
       "      <td>...</td>\n",
       "    </tr>\n",
       "    <tr>\n",
       "      <th>5745</th>\n",
       "      <td>552524.jpg</td>\n",
       "      <td>Lilo &amp; Stitch</td>\n",
       "      <td>2025</td>\n",
       "      <td>[10751, 878, 35, 12]</td>\n",
       "      <td>Current Era</td>\n",
       "    </tr>\n",
       "    <tr>\n",
       "      <th>5749</th>\n",
       "      <td>1087192.jpg</td>\n",
       "      <td>How to Train Your Dragon</td>\n",
       "      <td>2025</td>\n",
       "      <td>[14, 10751, 28]</td>\n",
       "      <td>Current Era</td>\n",
       "    </tr>\n",
       "    <tr>\n",
       "      <th>5754</th>\n",
       "      <td>1061474.jpg</td>\n",
       "      <td>Superman</td>\n",
       "      <td>2025</td>\n",
       "      <td>[878, 12, 28]</td>\n",
       "      <td>Current Era</td>\n",
       "    </tr>\n",
       "    <tr>\n",
       "      <th>5814</th>\n",
       "      <td>1239655.jpg</td>\n",
       "      <td>Friendship</td>\n",
       "      <td>2025</td>\n",
       "      <td>[35]</td>\n",
       "      <td>Current Era</td>\n",
       "    </tr>\n",
       "    <tr>\n",
       "      <th>5801</th>\n",
       "      <td>1083433.jpg</td>\n",
       "      <td>I Know What You Did Last Summer</td>\n",
       "      <td>2025</td>\n",
       "      <td>[27, 9648, 53]</td>\n",
       "      <td>Current Era</td>\n",
       "    </tr>\n",
       "  </tbody>\n",
       "</table>\n",
       "<p>154 rows × 5 columns</p>\n",
       "</div>"
      ],
      "text/plain": [
       "         filename                            title  release_year  \\\n",
       "125      1580.jpg                             Rope          1948   \n",
       "58    1506593.jpg                          Rebecca          1950   \n",
       "543   1426786.jpg               USSR Air Fleet Day          1951   \n",
       "224   1426806.jpg               USSR Air Fleet Day          1952   \n",
       "880   1484868.jpg                 To Catch a Thief          1958   \n",
       "...           ...                              ...           ...   \n",
       "5745   552524.jpg                    Lilo & Stitch          2025   \n",
       "5749  1087192.jpg         How to Train Your Dragon          2025   \n",
       "5754  1061474.jpg                         Superman          2025   \n",
       "5814  1239655.jpg                       Friendship          2025   \n",
       "5801  1083433.jpg  I Know What You Did Last Summer          2025   \n",
       "\n",
       "                    genres                  era  \n",
       "125           [53, 80, 18]           Golden Age  \n",
       "58                 [10749]  Post-War Transition  \n",
       "543                   [99]  Post-War Transition  \n",
       "224                   [99]  Post-War Transition  \n",
       "880               [18, 80]  Post-War Transition  \n",
       "...                    ...                  ...  \n",
       "5745  [10751, 878, 35, 12]          Current Era  \n",
       "5749       [14, 10751, 28]          Current Era  \n",
       "5754         [878, 12, 28]          Current Era  \n",
       "5814                  [35]          Current Era  \n",
       "5801        [27, 9648, 53]          Current Era  \n",
       "\n",
       "[154 rows x 5 columns]"
      ]
     },
     "execution_count": 8,
     "metadata": {},
     "output_type": "execute_result"
    }
   ],
   "source": [
    "# let's check for duplicate titles in case\n",
    "df.sort_values(by='release_year')\n",
    "duplicated = df.duplicated(subset=['title'])\n",
    "print(np.sum(duplicated))\n",
    "\n",
    "# by default, grabbing the latest duplicate title\n",
    "latest_dups = df[duplicated]\n",
    "latest_dups"
   ]
  },
  {
   "cell_type": "markdown",
   "id": "5c9b7b86",
   "metadata": {},
   "source": [
    "It seems like these duplicates come from remakes sharing the same name. We can check this easily by taking a subset of title and year instead. Just for fun, let's also see when most of these remakes are from."
   ]
  },
  {
   "cell_type": "code",
   "execution_count": 9,
   "id": "79821307",
   "metadata": {},
   "outputs": [
    {
     "data": {
      "text/plain": [
       "0"
      ]
     },
     "execution_count": 9,
     "metadata": {},
     "output_type": "execute_result"
    }
   ],
   "source": [
    "np.sum(df.duplicated(subset=['title', 'release_year']))"
   ]
  },
  {
   "cell_type": "code",
   "execution_count": 10,
   "id": "cb3c0add",
   "metadata": {},
   "outputs": [
    {
     "name": "stderr",
     "output_type": "stream",
     "text": [
      "/var/folders/vq/1vm3d1qd40dc31fh9jl7k1fc0000gn/T/ipykernel_31197/1174242371.py:6: UserWarning: FigureCanvasAgg is non-interactive, and thus cannot be shown\n",
      "  plt.show()\n"
     ]
    }
   ],
   "source": [
    "sns.countplot(data=latest_dups, x='era', edgecolor='black', linewidth=0.4)\n",
    "plt.title(\"Remakes by Era\")\n",
    "plt.xlabel(\"Era\")\n",
    "plt.ylabel(\"Num Remakes\")\n",
    "plt.xticks(rotation=45, ha='right')\n",
    "plt.show()"
   ]
  },
  {
   "cell_type": "code",
   "execution_count": 11,
   "id": "33cf2e6a",
   "metadata": {},
   "outputs": [
    {
     "data": {
      "text/plain": [
       "era\n",
       "Golden Age             0.002020\n",
       "Post-War Transition    0.006173\n",
       "New Hollywood          0.013805\n",
       "Blockbuster Era        0.013542\n",
       "Digital Era            0.044792\n",
       "Franchise Era          0.050057\n",
       "Current Era            0.048589\n",
       "Name: count, dtype: float64"
      ]
     },
     "execution_count": 11,
     "metadata": {},
     "output_type": "execute_result"
    }
   ],
   "source": [
    "# since total counts are different, let's find proportions instead\n",
    "era_order = df['era'].drop_duplicates().tolist()\n",
    "era_counts = df['era'].value_counts().reindex(era_order)\n",
    "remake_counts = latest_dups['era'].value_counts().reindex(era_order)\n",
    "\n",
    "proportions = (remake_counts / era_counts)\n",
    "proportions"
   ]
  },
  {
   "cell_type": "code",
   "execution_count": 12,
   "id": "603af128",
   "metadata": {},
   "outputs": [
    {
     "name": "stderr",
     "output_type": "stream",
     "text": [
      "/var/folders/vq/1vm3d1qd40dc31fh9jl7k1fc0000gn/T/ipykernel_31197/3058240044.py:8: UserWarning: FigureCanvasAgg is non-interactive, and thus cannot be shown\n",
      "  plt.show()\n"
     ]
    }
   ],
   "source": [
    "proportions.plot(kind='bar',\n",
    "                 edgecolor='black',\n",
    "                 linewidth=0.4,\n",
    "                 xlabel='Era',\n",
    "                 ylabel='Proportion',\n",
    "                 title='Proportion of Remakes by Era')\n",
    "plt.xticks(rotation=45, ha='right')\n",
    "plt.show()"
   ]
  },
  {
   "cell_type": "markdown",
   "id": "31c7c8dc",
   "metadata": {},
   "source": [
    "So clearly, the prevalence of remakes is something recent which does make sense: you have to have something to remake before you can remake it. That concludes some preliminary transformation of the metadata."
   ]
  },
  {
   "cell_type": "markdown",
   "id": "95ba2dde",
   "metadata": {},
   "source": [
    "<h3>Images</h3>\n",
    "\n",
    "It's much easier to explore numerical/categorical data than it is images, but the set of images is our entire mapping domain, so it would be cursory to skip exploring the image data for our problem.\n",
    "\n",
    "First, let's get a feel for the images in general; what do they look like and are there any obvious black screens or blurry images?"
   ]
  },
  {
   "cell_type": "code",
   "execution_count": 13,
   "id": "c6f4b41d",
   "metadata": {},
   "outputs": [
    {
     "data": {
      "text/html": [
       "<div class=\"zoom\"><img style='width: 100px; height: 100px; margin: 1px; float: left; border: 0px solid black;'title=[] src='temp_link/8265.jpg'/></div><div class=\"zoom\"><img style='width: 100px; height: 100px; margin: 1px; float: left; border: 0px solid black;'title=[] src='temp_link/15670.jpg'/></div><div class=\"zoom\"><img style='width: 100px; height: 100px; margin: 1px; float: left; border: 0px solid black;'title=[] src='temp_link/15373.jpg'/></div><div class=\"zoom\"><img style='width: 100px; height: 100px; margin: 1px; float: left; border: 0px solid black;'title=[] src='temp_link/4233.jpg'/></div><div class=\"zoom\"><img style='width: 100px; height: 100px; margin: 1px; float: left; border: 0px solid black;'title=[] src='temp_link/16081.jpg'/></div><div class=\"zoom\"><img style='width: 100px; height: 100px; margin: 1px; float: left; border: 0px solid black;'title=[] src='temp_link/9327.jpg'/></div><div class=\"zoom\"><img style='width: 100px; height: 100px; margin: 1px; float: left; border: 0px solid black;'title=[] src='temp_link/921557.jpg'/></div><div class=\"zoom\"><img style='width: 100px; height: 100px; margin: 1px; float: left; border: 0px solid black;'title=[] src='temp_link/694.jpg'/></div><div class=\"zoom\"><img style='width: 100px; height: 100px; margin: 1px; float: left; border: 0px solid black;'title=[] src='temp_link/11503.jpg'/></div><div class=\"zoom\"><img style='width: 100px; height: 100px; margin: 1px; float: left; border: 0px solid black;'title=[] src='temp_link/82654.jpg'/></div><div class=\"zoom\"><img style='width: 100px; height: 100px; margin: 1px; float: left; border: 0px solid black;'title=[] src='temp_link/81462.jpg'/></div><div class=\"zoom\"><img style='width: 100px; height: 100px; margin: 1px; float: left; border: 0px solid black;'title=[] src='temp_link/45317.jpg'/></div><div class=\"zoom\"><img style='width: 100px; height: 100px; margin: 1px; float: left; border: 0px solid black;'title=[] src='temp_link/13497.jpg'/></div><div class=\"zoom\"><img style='width: 100px; height: 100px; margin: 1px; float: left; border: 0px solid black;'title=[] src='temp_link/20379.jpg'/></div><div class=\"zoom\"><img style='width: 100px; height: 100px; margin: 1px; float: left; border: 0px solid black;'title=[] src='temp_link/61855.jpg'/></div><div class=\"zoom\"><img style='width: 100px; height: 100px; margin: 1px; float: left; border: 0px solid black;'title=[] src='temp_link/76341.jpg'/></div><div class=\"zoom\"><img style='width: 100px; height: 100px; margin: 1px; float: left; border: 0px solid black;'title=[] src='temp_link/9686.jpg'/></div><div class=\"zoom\"><img style='width: 100px; height: 100px; margin: 1px; float: left; border: 0px solid black;'title=[] src='temp_link/567.jpg'/></div><div class=\"zoom\"><img style='width: 100px; height: 100px; margin: 1px; float: left; border: 0px solid black;'title=[] src='temp_link/9986.jpg'/></div><div class=\"zoom\"><img style='width: 100px; height: 100px; margin: 1px; float: left; border: 0px solid black;'title=[] src='temp_link/11586.jpg'/></div><div class=\"zoom\"><img style='width: 100px; height: 100px; margin: 1px; float: left; border: 0px solid black;'title=[] src='temp_link/2005.jpg'/></div><div class=\"zoom\"><img style='width: 100px; height: 100px; margin: 1px; float: left; border: 0px solid black;'title=[] src='temp_link/1335243.jpg'/></div><div class=\"zoom\"><img style='width: 100px; height: 100px; margin: 1px; float: left; border: 0px solid black;'title=[] src='temp_link/372399.jpg'/></div><div class=\"zoom\"><img style='width: 100px; height: 100px; margin: 1px; float: left; border: 0px solid black;'title=[] src='temp_link/17494.jpg'/></div><div class=\"zoom\"><img style='width: 100px; height: 100px; margin: 1px; float: left; border: 0px solid black;'title=[] src='temp_link/62764.jpg'/></div><div class=\"zoom\"><img style='width: 100px; height: 100px; margin: 1px; float: left; border: 0px solid black;'title=[] src='temp_link/87149.jpg'/></div><div class=\"zoom\"><img style='width: 100px; height: 100px; margin: 1px; float: left; border: 0px solid black;'title=[] src='temp_link/52772.jpg'/></div><div class=\"zoom\"><img style='width: 100px; height: 100px; margin: 1px; float: left; border: 0px solid black;'title=[] src='temp_link/985.jpg'/></div><div class=\"zoom\"><img style='width: 100px; height: 100px; margin: 1px; float: left; border: 0px solid black;'title=[] src='temp_link/24331.jpg'/></div><div class=\"zoom\"><img style='width: 100px; height: 100px; margin: 1px; float: left; border: 0px solid black;'title=[] src='temp_link/10973.jpg'/></div><div class=\"zoom\"><img style='width: 100px; height: 100px; margin: 1px; float: left; border: 0px solid black;'title=[] src='temp_link/10489.jpg'/></div><div class=\"zoom\"><img style='width: 100px; height: 100px; margin: 1px; float: left; border: 0px solid black;'title=[] src='temp_link/11316.jpg'/></div><div class=\"zoom\"><img style='width: 100px; height: 100px; margin: 1px; float: left; border: 0px solid black;'title=[] src='temp_link/38765.jpg'/></div><div class=\"zoom\"><img style='width: 100px; height: 100px; margin: 1px; float: left; border: 0px solid black;'title=[] src='temp_link/9339.jpg'/></div><div class=\"zoom\"><img style='width: 100px; height: 100px; margin: 1px; float: left; border: 0px solid black;'title=[] src='temp_link/4945.jpg'/></div><div class=\"zoom\"><img style='width: 100px; height: 100px; margin: 1px; float: left; border: 0px solid black;'title=[] src='temp_link/25905.jpg'/></div><div class=\"zoom\"><img style='width: 100px; height: 100px; margin: 1px; float: left; border: 0px solid black;'title=[] src='temp_link/23148.jpg'/></div><div class=\"zoom\"><img style='width: 100px; height: 100px; margin: 1px; float: left; border: 0px solid black;'title=[] src='temp_link/10553.jpg'/></div><div class=\"zoom\"><img style='width: 100px; height: 100px; margin: 1px; float: left; border: 0px solid black;'title=[] src='temp_link/47964.jpg'/></div><div class=\"zoom\"><img style='width: 100px; height: 100px; margin: 1px; float: left; border: 0px solid black;'title=[] src='temp_link/1499243.jpg'/></div><div class=\"zoom\"><img style='width: 100px; height: 100px; margin: 1px; float: left; border: 0px solid black;'title=[] src='temp_link/62211.jpg'/></div><div class=\"zoom\"><img style='width: 100px; height: 100px; margin: 1px; float: left; border: 0px solid black;'title=[] src='temp_link/80596.jpg'/></div><div class=\"zoom\"><img style='width: 100px; height: 100px; margin: 1px; float: left; border: 0px solid black;'title=[] src='temp_link/11831.jpg'/></div><div class=\"zoom\"><img style='width: 100px; height: 100px; margin: 1px; float: left; border: 0px solid black;'title=[] src='temp_link/11703.jpg'/></div><div class=\"zoom\"><img style='width: 100px; height: 100px; margin: 1px; float: left; border: 0px solid black;'title=[] src='temp_link/2054.jpg'/></div><div class=\"zoom\"><img style='width: 100px; height: 100px; margin: 1px; float: left; border: 0px solid black;'title=[] src='temp_link/345938.jpg'/></div><div class=\"zoom\"><img style='width: 100px; height: 100px; margin: 1px; float: left; border: 0px solid black;'title=[] src='temp_link/14292.jpg'/></div><div class=\"zoom\"><img style='width: 100px; height: 100px; margin: 1px; float: left; border: 0px solid black;'title=[] src='temp_link/228161.jpg'/></div><div class=\"zoom\"><img style='width: 100px; height: 100px; margin: 1px; float: left; border: 0px solid black;'title=[] src='temp_link/14589.jpg'/></div><div class=\"zoom\"><img style='width: 100px; height: 100px; margin: 1px; float: left; border: 0px solid black;'title=[] src='temp_link/1302916.jpg'/></div><div class=\"zoom\"><img style='width: 100px; height: 100px; margin: 1px; float: left; border: 0px solid black;'title=[] src='temp_link/1626.jpg'/></div><div class=\"zoom\"><img style='width: 100px; height: 100px; margin: 1px; float: left; border: 0px solid black;'title=[] src='temp_link/217202.jpg'/></div><div class=\"zoom\"><img style='width: 100px; height: 100px; margin: 1px; float: left; border: 0px solid black;'title=[] src='temp_link/724223.jpg'/></div><div class=\"zoom\"><img style='width: 100px; height: 100px; margin: 1px; float: left; border: 0px solid black;'title=[] src='temp_link/37347.jpg'/></div><div class=\"zoom\"><img style='width: 100px; height: 100px; margin: 1px; float: left; border: 0px solid black;'title=[] src='temp_link/74896.jpg'/></div><div class=\"zoom\"><img style='width: 100px; height: 100px; margin: 1px; float: left; border: 0px solid black;'title=[] src='temp_link/11036.jpg'/></div><div class=\"zoom\"><img style='width: 100px; height: 100px; margin: 1px; float: left; border: 0px solid black;'title=[] src='temp_link/142440.jpg'/></div><div class=\"zoom\"><img style='width: 100px; height: 100px; margin: 1px; float: left; border: 0px solid black;'title=[] src='temp_link/68430.jpg'/></div><div class=\"zoom\"><img style='width: 100px; height: 100px; margin: 1px; float: left; border: 0px solid black;'title=[] src='temp_link/110336.jpg'/></div><div class=\"zoom\"><img style='width: 100px; height: 100px; margin: 1px; float: left; border: 0px solid black;'title=[] src='temp_link/11024.jpg'/></div><div class=\"zoom\"><img style='width: 100px; height: 100px; margin: 1px; float: left; border: 0px solid black;'title=[] src='temp_link/275294.jpg'/></div><div class=\"zoom\"><img style='width: 100px; height: 100px; margin: 1px; float: left; border: 0px solid black;'title=[] src='temp_link/20048.jpg'/></div><div class=\"zoom\"><img style='width: 100px; height: 100px; margin: 1px; float: left; border: 0px solid black;'title=[] src='temp_link/1516060.jpg'/></div><div class=\"zoom\"><img style='width: 100px; height: 100px; margin: 1px; float: left; border: 0px solid black;'title=[] src='temp_link/370567.jpg'/></div><div class=\"zoom\"><img style='width: 100px; height: 100px; margin: 1px; float: left; border: 0px solid black;'title=[] src='temp_link/15766.jpg'/></div><div class=\"zoom\"><img style='width: 100px; height: 100px; margin: 1px; float: left; border: 0px solid black;'title=[] src='temp_link/19297.jpg'/></div><div class=\"zoom\"><img style='width: 100px; height: 100px; margin: 1px; float: left; border: 0px solid black;'title=[] src='temp_link/13203.jpg'/></div><div class=\"zoom\"><img style='width: 100px; height: 100px; margin: 1px; float: left; border: 0px solid black;'title=[] src='temp_link/2288.jpg'/></div><div class=\"zoom\"><img style='width: 100px; height: 100px; margin: 1px; float: left; border: 0px solid black;'title=[] src='temp_link/5854.jpg'/></div><div class=\"zoom\"><img style='width: 100px; height: 100px; margin: 1px; float: left; border: 0px solid black;'title=[] src='temp_link/13763.jpg'/></div><div class=\"zoom\"><img style='width: 100px; height: 100px; margin: 1px; float: left; border: 0px solid black;'title=[] src='temp_link/11281.jpg'/></div><div class=\"zoom\"><img style='width: 100px; height: 100px; margin: 1px; float: left; border: 0px solid black;'title=[] src='temp_link/8373.jpg'/></div><div class=\"zoom\"><img style='width: 100px; height: 100px; margin: 1px; float: left; border: 0px solid black;'title=[] src='temp_link/11316.jpg'/></div><div class=\"zoom\"><img style='width: 100px; height: 100px; margin: 1px; float: left; border: 0px solid black;'title=[] src='temp_link/9972.jpg'/></div><div class=\"zoom\"><img style='width: 100px; height: 100px; margin: 1px; float: left; border: 0px solid black;'title=[] src='temp_link/193742.jpg'/></div><div class=\"zoom\"><img style='width: 100px; height: 100px; margin: 1px; float: left; border: 0px solid black;'title=[] src='temp_link/36593.jpg'/></div><div class=\"zoom\"><img style='width: 100px; height: 100px; margin: 1px; float: left; border: 0px solid black;'title=[] src='temp_link/833.jpg'/></div><div class=\"zoom\"><img style='width: 100px; height: 100px; margin: 1px; float: left; border: 0px solid black;'title=[] src='temp_link/1485883.jpg'/></div><div class=\"zoom\"><img style='width: 100px; height: 100px; margin: 1px; float: left; border: 0px solid black;'title=[] src='temp_link/2182.jpg'/></div><div class=\"zoom\"><img style='width: 100px; height: 100px; margin: 1px; float: left; border: 0px solid black;'title=[] src='temp_link/1488893.jpg'/></div><div class=\"zoom\"><img style='width: 100px; height: 100px; margin: 1px; float: left; border: 0px solid black;'title=[] src='temp_link/75653.jpg'/></div><div class=\"zoom\"><img style='width: 100px; height: 100px; margin: 1px; float: left; border: 0px solid black;'title=[] src='temp_link/210577.jpg'/></div><div class=\"zoom\"><img style='width: 100px; height: 100px; margin: 1px; float: left; border: 0px solid black;'title=[] src='temp_link/937287.jpg'/></div><div class=\"zoom\"><img style='width: 100px; height: 100px; margin: 1px; float: left; border: 0px solid black;'title=[] src='temp_link/92299.jpg'/></div><div class=\"zoom\"><img style='width: 100px; height: 100px; margin: 1px; float: left; border: 0px solid black;'title=[] src='temp_link/67660.jpg'/></div><div class=\"zoom\"><img style='width: 100px; height: 100px; margin: 1px; float: left; border: 0px solid black;'title=[] src='temp_link/24266.jpg'/></div><div class=\"zoom\"><img style='width: 100px; height: 100px; margin: 1px; float: left; border: 0px solid black;'title=[] src='temp_link/5121.jpg'/></div><div class=\"zoom\"><img style='width: 100px; height: 100px; margin: 1px; float: left; border: 0px solid black;'title=[] src='temp_link/337401.jpg'/></div><div class=\"zoom\"><img style='width: 100px; height: 100px; margin: 1px; float: left; border: 0px solid black;'title=[] src='temp_link/13766.jpg'/></div><div class=\"zoom\"><img style='width: 100px; height: 100px; margin: 1px; float: left; border: 0px solid black;'title=[] src='temp_link/27150.jpg'/></div><div class=\"zoom\"><img style='width: 100px; height: 100px; margin: 1px; float: left; border: 0px solid black;'title=[] src='temp_link/830.jpg'/></div><div class=\"zoom\"><img style='width: 100px; height: 100px; margin: 1px; float: left; border: 0px solid black;'title=[] src='temp_link/21876.jpg'/></div><div class=\"zoom\"><img style='width: 100px; height: 100px; margin: 1px; float: left; border: 0px solid black;'title=[] src='temp_link/95358.jpg'/></div><div class=\"zoom\"><img style='width: 100px; height: 100px; margin: 1px; float: left; border: 0px solid black;'title=[] src='temp_link/400157.jpg'/></div><div class=\"zoom\"><img style='width: 100px; height: 100px; margin: 1px; float: left; border: 0px solid black;'title=[] src='temp_link/30137.jpg'/></div><div class=\"zoom\"><img style='width: 100px; height: 100px; margin: 1px; float: left; border: 0px solid black;'title=[] src='temp_link/1457777.jpg'/></div><div class=\"zoom\"><img style='width: 100px; height: 100px; margin: 1px; float: left; border: 0px solid black;'title=[] src='temp_link/10202.jpg'/></div><div class=\"zoom\"><img style='width: 100px; height: 100px; margin: 1px; float: left; border: 0px solid black;'title=[] src='temp_link/11228.jpg'/></div><div class=\"zoom\"><img style='width: 100px; height: 100px; margin: 1px; float: left; border: 0px solid black;'title=[] src='temp_link/566525.jpg'/></div><div class=\"zoom\"><img style='width: 100px; height: 100px; margin: 1px; float: left; border: 0px solid black;'title=[] src='temp_link/21882.jpg'/></div><div class=\"zoom\"><img style='width: 100px; height: 100px; margin: 1px; float: left; border: 0px solid black;'title=[] src='temp_link/21968.jpg'/></div><div class=\"zoom\"><img style='width: 100px; height: 100px; margin: 1px; float: left; border: 0px solid black;'title=[] src='temp_link/95610.jpg'/></div><div class=\"zoom\"><img style='width: 100px; height: 100px; margin: 1px; float: left; border: 0px solid black;'title=[] src='temp_link/26039.jpg'/></div><div class=\"zoom\"><img style='width: 100px; height: 100px; margin: 1px; float: left; border: 0px solid black;'title=[] src='temp_link/42345.jpg'/></div><div class=\"zoom\"><img style='width: 100px; height: 100px; margin: 1px; float: left; border: 0px solid black;'title=[] src='temp_link/1128650.jpg'/></div><div class=\"zoom\"><img style='width: 100px; height: 100px; margin: 1px; float: left; border: 0px solid black;'title=[] src='temp_link/9598.jpg'/></div><div class=\"zoom\"><img style='width: 100px; height: 100px; margin: 1px; float: left; border: 0px solid black;'title=[] src='temp_link/8831.jpg'/></div><div class=\"zoom\"><img style='width: 100px; height: 100px; margin: 1px; float: left; border: 0px solid black;'title=[] src='temp_link/14837.jpg'/></div><div class=\"zoom\"><img style='width: 100px; height: 100px; margin: 1px; float: left; border: 0px solid black;'title=[] src='temp_link/204559.jpg'/></div><div class=\"zoom\"><img style='width: 100px; height: 100px; margin: 1px; float: left; border: 0px solid black;'title=[] src='temp_link/1506872.jpg'/></div><div class=\"zoom\"><img style='width: 100px; height: 100px; margin: 1px; float: left; border: 0px solid black;'title=[] src='temp_link/581734.jpg'/></div><div class=\"zoom\"><img style='width: 100px; height: 100px; margin: 1px; float: left; border: 0px solid black;'title=[] src='temp_link/1900.jpg'/></div><div class=\"zoom\"><img style='width: 100px; height: 100px; margin: 1px; float: left; border: 0px solid black;'title=[] src='temp_link/42733.jpg'/></div><div class=\"zoom\"><img style='width: 100px; height: 100px; margin: 1px; float: left; border: 0px solid black;'title=[] src='temp_link/33673.jpg'/></div><div class=\"zoom\"><img style='width: 100px; height: 100px; margin: 1px; float: left; border: 0px solid black;'title=[] src='temp_link/19827.jpg'/></div><div class=\"zoom\"><img style='width: 100px; height: 100px; margin: 1px; float: left; border: 0px solid black;'title=[] src='temp_link/9754.jpg'/></div><div class=\"zoom\"><img style='width: 100px; height: 100px; margin: 1px; float: left; border: 0px solid black;'title=[] src='temp_link/1465384.jpg'/></div><div class=\"zoom\"><img style='width: 100px; height: 100px; margin: 1px; float: left; border: 0px solid black;'title=[] src='temp_link/4944.jpg'/></div><div class=\"zoom\"><img style='width: 100px; height: 100px; margin: 1px; float: left; border: 0px solid black;'title=[] src='temp_link/416249.jpg'/></div><div class=\"zoom\"><img style='width: 100px; height: 100px; margin: 1px; float: left; border: 0px solid black;'title=[] src='temp_link/806856.jpg'/></div><div class=\"zoom\"><img style='width: 100px; height: 100px; margin: 1px; float: left; border: 0px solid black;'title=[] src='temp_link/10925.jpg'/></div><div class=\"zoom\"><img style='width: 100px; height: 100px; margin: 1px; float: left; border: 0px solid black;'title=[] src='temp_link/1501080.jpg'/></div><div class=\"zoom\"><img style='width: 100px; height: 100px; margin: 1px; float: left; border: 0px solid black;'title=[] src='temp_link/10603.jpg'/></div><div class=\"zoom\"><img style='width: 100px; height: 100px; margin: 1px; float: left; border: 0px solid black;'title=[] src='temp_link/457251.jpg'/></div><div class=\"zoom\"><img style='width: 100px; height: 100px; margin: 1px; float: left; border: 0px solid black;'title=[] src='temp_link/1511056.jpg'/></div><div class=\"zoom\"><img style='width: 100px; height: 100px; margin: 1px; float: left; border: 0px solid black;'title=[] src='temp_link/1513847.jpg'/></div><div class=\"zoom\"><img style='width: 100px; height: 100px; margin: 1px; float: left; border: 0px solid black;'title=[] src='temp_link/115894.jpg'/></div><div class=\"zoom\"><img style='width: 100px; height: 100px; margin: 1px; float: left; border: 0px solid black;'title=[] src='temp_link/106646.jpg'/></div><div class=\"zoom\"><img style='width: 100px; height: 100px; margin: 1px; float: left; border: 0px solid black;'title=[] src='temp_link/22527.jpg'/></div><div class=\"zoom\"><img style='width: 100px; height: 100px; margin: 1px; float: left; border: 0px solid black;'title=[] src='temp_link/42686.jpg'/></div><div class=\"zoom\"><img style='width: 100px; height: 100px; margin: 1px; float: left; border: 0px solid black;'title=[] src='temp_link/1470676.jpg'/></div><div class=\"zoom\"><img style='width: 100px; height: 100px; margin: 1px; float: left; border: 0px solid black;'title=[] src='temp_link/10580.jpg'/></div><div class=\"zoom\"><img style='width: 100px; height: 100px; margin: 1px; float: left; border: 0px solid black;'title=[] src='temp_link/9331.jpg'/></div><div class=\"zoom\"><img style='width: 100px; height: 100px; margin: 1px; float: left; border: 0px solid black;'title=[] src='temp_link/9373.jpg'/></div><div class=\"zoom\"><img style='width: 100px; height: 100px; margin: 1px; float: left; border: 0px solid black;'title=[] src='temp_link/259076.jpg'/></div><div class=\"zoom\"><img style='width: 100px; height: 100px; margin: 1px; float: left; border: 0px solid black;'title=[] src='temp_link/9263.jpg'/></div><div class=\"zoom\"><img style='width: 100px; height: 100px; margin: 1px; float: left; border: 0px solid black;'title=[] src='temp_link/1514876.jpg'/></div><div class=\"zoom\"><img style='width: 100px; height: 100px; margin: 1px; float: left; border: 0px solid black;'title=[] src='temp_link/9381.jpg'/></div><div class=\"zoom\"><img style='width: 100px; height: 100px; margin: 1px; float: left; border: 0px solid black;'title=[] src='temp_link/22762.jpg'/></div><div class=\"zoom\"><img style='width: 100px; height: 100px; margin: 1px; float: left; border: 0px solid black;'title=[] src='temp_link/10438.jpg'/></div><div class=\"zoom\"><img style='width: 100px; height: 100px; margin: 1px; float: left; border: 0px solid black;'title=[] src='temp_link/419704.jpg'/></div><div class=\"zoom\"><img style='width: 100px; height: 100px; margin: 1px; float: left; border: 0px solid black;'title=[] src='temp_link/9462.jpg'/></div><div class=\"zoom\"><img style='width: 100px; height: 100px; margin: 1px; float: left; border: 0px solid black;'title=[] src='temp_link/1475589.jpg'/></div><div class=\"zoom\"><img style='width: 100px; height: 100px; margin: 1px; float: left; border: 0px solid black;'title=[] src='temp_link/9509.jpg'/></div><div class=\"zoom\"><img style='width: 100px; height: 100px; margin: 1px; float: left; border: 0px solid black;'title=[] src='temp_link/1930.jpg'/></div><div class=\"zoom\"><img style='width: 100px; height: 100px; margin: 1px; float: left; border: 0px solid black;'title=[] src='temp_link/18030.jpg'/></div><div class=\"zoom\"><img style='width: 100px; height: 100px; margin: 1px; float: left; border: 0px solid black;'title=[] src='temp_link/296096.jpg'/></div><div class=\"zoom\"><img style='width: 100px; height: 100px; margin: 1px; float: left; border: 0px solid black;'title=[] src='temp_link/1467852.jpg'/></div><div class=\"zoom\"><img style='width: 100px; height: 100px; margin: 1px; float: left; border: 0px solid black;'title=[] src='temp_link/25364.jpg'/></div><div class=\"zoom\"><img style='width: 100px; height: 100px; margin: 1px; float: left; border: 0px solid black;'title=[] src='temp_link/6028.jpg'/></div><div class=\"zoom\"><img style='width: 100px; height: 100px; margin: 1px; float: left; border: 0px solid black;'title=[] src='temp_link/65.jpg'/></div><div class=\"zoom\"><img style='width: 100px; height: 100px; margin: 1px; float: left; border: 0px solid black;'title=[] src='temp_link/520393.jpg'/></div><div class=\"zoom\"><img style='width: 100px; height: 100px; margin: 1px; float: left; border: 0px solid black;'title=[] src='temp_link/11302.jpg'/></div><div class=\"zoom\"><img style='width: 100px; height: 100px; margin: 1px; float: left; border: 0px solid black;'title=[] src='temp_link/11637.jpg'/></div><div class=\"zoom\"><img style='width: 100px; height: 100px; margin: 1px; float: left; border: 0px solid black;'title=[] src='temp_link/341013.jpg'/></div><div class=\"zoom\"><img style='width: 100px; height: 100px; margin: 1px; float: left; border: 0px solid black;'title=[] src='temp_link/1460804.jpg'/></div><div class=\"zoom\"><img style='width: 100px; height: 100px; margin: 1px; float: left; border: 0px solid black;'title=[] src='temp_link/1481865.jpg'/></div><div class=\"zoom\"><img style='width: 100px; height: 100px; margin: 1px; float: left; border: 0px solid black;'title=[] src='temp_link/515195.jpg'/></div><div class=\"zoom\"><img style='width: 100px; height: 100px; margin: 1px; float: left; border: 0px solid black;'title=[] src='temp_link/25364.jpg'/></div><div class=\"zoom\"><img style='width: 100px; height: 100px; margin: 1px; float: left; border: 0px solid black;'title=[] src='temp_link/9396.jpg'/></div><div class=\"zoom\"><img style='width: 100px; height: 100px; margin: 1px; float: left; border: 0px solid black;'title=[] src='temp_link/375936.jpg'/></div><div class=\"zoom\"><img style='width: 100px; height: 100px; margin: 1px; float: left; border: 0px solid black;'title=[] src='temp_link/1489446.jpg'/></div><div class=\"zoom\"><img style='width: 100px; height: 100px; margin: 1px; float: left; border: 0px solid black;'title=[] src='temp_link/2039.jpg'/></div><div class=\"zoom\"><img style='width: 100px; height: 100px; margin: 1px; float: left; border: 0px solid black;'title=[] src='temp_link/1384009.jpg'/></div><div class=\"zoom\"><img style='width: 100px; height: 100px; margin: 1px; float: left; border: 0px solid black;'title=[] src='temp_link/17127.jpg'/></div><div class=\"zoom\"><img style='width: 100px; height: 100px; margin: 1px; float: left; border: 0px solid black;'title=[] src='temp_link/536869.jpg'/></div><div class=\"zoom\"><img style='width: 100px; height: 100px; margin: 1px; float: left; border: 0px solid black;'title=[] src='temp_link/882704.jpg'/></div><div class=\"zoom\"><img style='width: 100px; height: 100px; margin: 1px; float: left; border: 0px solid black;'title=[] src='temp_link/1936.jpg'/></div><div class=\"zoom\"><img style='width: 100px; height: 100px; margin: 1px; float: left; border: 0px solid black;'title=[] src='temp_link/11459.jpg'/></div><div class=\"zoom\"><img style='width: 100px; height: 100px; margin: 1px; float: left; border: 0px solid black;'title=[] src='temp_link/1139695.jpg'/></div><div class=\"zoom\"><img style='width: 100px; height: 100px; margin: 1px; float: left; border: 0px solid black;'title=[] src='temp_link/307081.jpg'/></div><div class=\"zoom\"><img style='width: 100px; height: 100px; margin: 1px; float: left; border: 0px solid black;'title=[] src='temp_link/161707.jpg'/></div><div class=\"zoom\"><img style='width: 100px; height: 100px; margin: 1px; float: left; border: 0px solid black;'title=[] src='temp_link/11638.jpg'/></div><div class=\"zoom\"><img style='width: 100px; height: 100px; margin: 1px; float: left; border: 0px solid black;'title=[] src='temp_link/1509194.jpg'/></div><div class=\"zoom\"><img style='width: 100px; height: 100px; margin: 1px; float: left; border: 0px solid black;'title=[] src='temp_link/179.jpg'/></div><div class=\"zoom\"><img style='width: 100px; height: 100px; margin: 1px; float: left; border: 0px solid black;'title=[] src='temp_link/49687.jpg'/></div><div class=\"zoom\"><img style='width: 100px; height: 100px; margin: 1px; float: left; border: 0px solid black;'title=[] src='temp_link/2024.jpg'/></div><div class=\"zoom\"><img style='width: 100px; height: 100px; margin: 1px; float: left; border: 0px solid black;'title=[] src='temp_link/1911.jpg'/></div><div class=\"zoom\"><img style='width: 100px; height: 100px; margin: 1px; float: left; border: 0px solid black;'title=[] src='temp_link/21219.jpg'/></div><div class=\"zoom\"><img style='width: 100px; height: 100px; margin: 1px; float: left; border: 0px solid black;'title=[] src='temp_link/1511343.jpg'/></div><div class=\"zoom\"><img style='width: 100px; height: 100px; margin: 1px; float: left; border: 0px solid black;'title=[] src='temp_link/24795.jpg'/></div><div class=\"zoom\"><img style='width: 100px; height: 100px; margin: 1px; float: left; border: 0px solid black;'title=[] src='temp_link/1491.jpg'/></div><div class=\"zoom\"><img style='width: 100px; height: 100px; margin: 1px; float: left; border: 0px solid black;'title=[] src='temp_link/1777.jpg'/></div><div class=\"zoom\"><img style='width: 100px; height: 100px; margin: 1px; float: left; border: 0px solid black;'title=[] src='temp_link/9348.jpg'/></div><div class=\"zoom\"><img style='width: 100px; height: 100px; margin: 1px; float: left; border: 0px solid black;'title=[] src='temp_link/711.jpg'/></div><div class=\"zoom\"><img style='width: 100px; height: 100px; margin: 1px; float: left; border: 0px solid black;'title=[] src='temp_link/381.jpg'/></div><div class=\"zoom\"><img style='width: 100px; height: 100px; margin: 1px; float: left; border: 0px solid black;'title=[] src='temp_link/43388.jpg'/></div><div class=\"zoom\"><img style='width: 100px; height: 100px; margin: 1px; float: left; border: 0px solid black;'title=[] src='temp_link/460668.jpg'/></div><div class=\"zoom\"><img style='width: 100px; height: 100px; margin: 1px; float: left; border: 0px solid black;'title=[] src='temp_link/656663.jpg'/></div><div class=\"zoom\"><img style='width: 100px; height: 100px; margin: 1px; float: left; border: 0px solid black;'title=[] src='temp_link/1078012.jpg'/></div><div class=\"zoom\"><img style='width: 100px; height: 100px; margin: 1px; float: left; border: 0px solid black;'title=[] src='temp_link/2502.jpg'/></div><div class=\"zoom\"><img style='width: 100px; height: 100px; margin: 1px; float: left; border: 0px solid black;'title=[] src='temp_link/1478983.jpg'/></div><div class=\"zoom\"><img style='width: 100px; height: 100px; margin: 1px; float: left; border: 0px solid black;'title=[] src='temp_link/82465.jpg'/></div><div class=\"zoom\"><img style='width: 100px; height: 100px; margin: 1px; float: left; border: 0px solid black;'title=[] src='temp_link/18835.jpg'/></div><div class=\"zoom\"><img style='width: 100px; height: 100px; margin: 1px; float: left; border: 0px solid black;'title=[] src='temp_link/254128.jpg'/></div><div class=\"zoom\"><img style='width: 100px; height: 100px; margin: 1px; float: left; border: 0px solid black;'title=[] src='temp_link/19259.jpg'/></div><div class=\"zoom\"><img style='width: 100px; height: 100px; margin: 1px; float: left; border: 0px solid black;'title=[] src='temp_link/57201.jpg'/></div><div class=\"zoom\"><img style='width: 100px; height: 100px; margin: 1px; float: left; border: 0px solid black;'title=[] src='temp_link/10849.jpg'/></div><div class=\"zoom\"><img style='width: 100px; height: 100px; margin: 1px; float: left; border: 0px solid black;'title=[] src='temp_link/50374.jpg'/></div><div class=\"zoom\"><img style='width: 100px; height: 100px; margin: 1px; float: left; border: 0px solid black;'title=[] src='temp_link/12185.jpg'/></div>"
      ],
      "text/plain": [
       "<IPython.core.display.HTML object>"
      ]
     },
     "metadata": {},
     "output_type": "display_data"
    }
   ],
   "source": [
    "list = EasyImageList.from_folder('/Users/anubis/Desktop/Personal_Projects/movie-decade-classification/data/posters')\n",
    "list.symlink_images()\n",
    "list.html(sample=200)"
   ]
  },
  {
   "cell_type": "markdown",
   "id": "2c58c5a3",
   "metadata": {},
   "source": [
    "Ok, pretty good! From this random sample, it looks like most of our images came out well. Looking at these images from here I'm having a hard time distinguishing either era or genre from any of the posters just looking at the images. Hopefully the network finds a better mapping.\n",
    "\n",
    "Let's see what else we can find out, like the sizes of the images. TheMovieDatabase API documentation can be a little hard to parse for image data, so we can figure out the size manually for each poster. A really important new idea I came accross when exploring image data is anchor boxes. The best resource I found is <a href='https://d2l.ai/chapter_computer-vision/anchor.html'>here</a>, but I will summarize below.\n",
    "\n",
    "Anchor boxes - Your neural network will sample different regions of your images to try and determine features of interest. The article above uses the term scale a lot, this is *not* the definition of scale used in photography. Instead, scale refers to the size of the anchor box as compared to the image. The network will produce many bounding boxes of different aspect ratios and sizes anchored at each pixel of the image. After a lot of trial an error, the network ideally figures out the perfect bounding boxes for the important features of your image. Usually, on image analysis you'll try to find the aspect ratio and area of these ideal bounding boxes for your image.\n",
    "\n",
    "Luckily, our object is the entire image, so we can go ahead and do a raw analysis of the image dimensions."
   ]
  },
  {
   "cell_type": "code",
   "execution_count": 14,
   "id": "a0428121",
   "metadata": {},
   "outputs": [
    {
     "name": "stdout",
     "output_type": "stream",
     "text": [
      "Total Images: 6063\n",
      "Unique dims: 38\n",
      "Unique aspect ratios: 38\n",
      "Unique areas: 38\n",
      "\n",
      "            height   width  aspect_ratio          area\n",
      "count  6063.000000  6063.0   6063.000000   6063.000000\n",
      "mean    230.219528   154.0      0.669121  35453.807356\n",
      "std       3.758830     0.0      0.011934    578.859834\n",
      "min     202.000000   154.0      0.626016  31108.000000\n",
      "25%     231.000000   154.0      0.666667  35574.000000\n",
      "50%     231.000000   154.0      0.666667  35574.000000\n",
      "75%     231.000000   154.0      0.666667  35574.000000\n",
      "max     246.000000   154.0      0.762376  37884.000000\n"
     ]
    }
   ],
   "source": [
    "POSTER_DIR_FINAL = '/Users/anubis/Desktop/Personal_Projects/movie-decade-classification/data/posters/'\n",
    "img_dim_data = []\n",
    "\n",
    "for img_name in os.listdir(path=POSTER_DIR_FINAL):\n",
    "    img_path = os.path.join(POSTER_DIR_FINAL, img_name)\n",
    "    with Image.open(img_path) as img:\n",
    "        width, height = img.size\n",
    "        aspect_ratio = width / height\n",
    "        area = width * height\n",
    "        img_dim_data.append({\n",
    "            'name': img_name,\n",
    "            'height': height,\n",
    "            'width': width,\n",
    "            'aspect_ratio': aspect_ratio,\n",
    "            'area': area,\n",
    "            'format': img.format,\n",
    "            'mode': img.mode\n",
    "        })\n",
    "\n",
    "img_dims_df = pd.DataFrame(img_dim_data)\n",
    "print(f\"Total Images: {len(img_dims_df)}\")\n",
    "print(f\"Unique dims: {len(img_dims_df[['height', 'width']].drop_duplicates())}\")\n",
    "print(f\"Unique aspect ratios: {len(img_dims_df['aspect_ratio'].drop_duplicates())}\")\n",
    "print(f\"Unique areas: {len(img_dims_df['area'].drop_duplicates())}\\n\")\n",
    "print(img_dims_df[['height', 'width', 'aspect_ratio', 'area']].describe())"
   ]
  },
  {
   "cell_type": "code",
   "execution_count": 15,
   "id": "c5711ccb",
   "metadata": {},
   "outputs": [
    {
     "name": "stderr",
     "output_type": "stream",
     "text": [
      "/var/folders/vq/1vm3d1qd40dc31fh9jl7k1fc0000gn/T/ipykernel_31197/3696807581.py:25: UserWarning: FigureCanvasAgg is non-interactive, and thus cannot be shown\n",
      "  plt.show()\n"
     ]
    }
   ],
   "source": [
    "fig, axes = plt.subplots(1, 3, figsize=(15, 5))\n",
    "\n",
    "# scatter plot for height vs. width\n",
    "axes[0].scatter(img_dims_df['width'], img_dims_df['height'], alpha=0.6)\n",
    "axes[0].set_xlabel('Width (pixels)')\n",
    "axes[0].set_ylabel('Height (pixels)')\n",
    "axes[0].set_title('Image Dimensions')\n",
    "axes[0].grid(True, alpha=0.3)\n",
    "\n",
    "# histogram for area\n",
    "axes[1].hist(img_dims_df['area'], alpha=0.7, edgecolor='black')\n",
    "axes[1].set_xlabel('Area (pixels)')\n",
    "axes[1].set_ylabel('Count')\n",
    "axes[1].set_title('Image Area Distribution')\n",
    "axes[1].grid(True, alpha=0.3)\n",
    "\n",
    "# histogram for aspect ratio\n",
    "axes[2].hist(img_dims_df['aspect_ratio'], alpha=0.7, edgecolor='black')\n",
    "axes[2].set_xlabel('Aspect Ratio (width/height)')\n",
    "axes[2].set_ylabel('Count')\n",
    "axes[2].set_title('Aspect Ratio Distribution')\n",
    "axes[2].grid(True, alpha=0.3)\n",
    "\n",
    "plt.tight_layout()\n",
    "plt.show()"
   ]
  },
  {
   "cell_type": "markdown",
   "id": "0339ad0c",
   "metadata": {},
   "source": [
    "So it looks like all the widths are the same with differing heights. The areas and aspect ratios have a few outliers we'll have to adjust before moving on so all our images are the same size. We'll take care of that during training.\n",
    "\n",
    "When I can, I will try to modify the images by cropping and adding padding such that the aspect ratio of the internal image stays the same, but the overall image changes aspect ratio for uniformity. This is called a non-destructive resize. Additionally, I want all my images to have the same pixel values. Since most of the posters are overwhelmingly of size 154x231, that's what I will use.\n",
    "\n",
    "Additionally, I'd like to explore the color distributions on a few sample images to get an idea of what we see predominantly."
   ]
  },
  {
   "cell_type": "code",
   "execution_count": 16,
   "id": "4816b665",
   "metadata": {},
   "outputs": [
    {
     "name": "stdout",
     "output_type": "stream",
     "text": [
      "116.09585652442796\n",
      "109.58708607409906\n",
      "97.73432844212066\n",
      "107.80575701354923\n"
     ]
    }
   ],
   "source": [
    "sample_img = '/Users/anubis/Desktop/Personal_Projects/movie-decade-classification/data/posters/1084736.jpg'\n",
    "with Image.open(sample_img) as img:\n",
    "    # convert image to numpy array\n",
    "    img_array = np.array(img)\n",
    "    \n",
    "    # find mean of red channel\n",
    "    mean_r_value = np.mean(img_array[:, :, 0])\n",
    "    # find mean of green channel\n",
    "    mean_g_value = np.mean(img_array[:, :, 1])\n",
    "    # find mean of blue channel\n",
    "    mean_b_value = np.mean(img_array[:, :, 2])\n",
    "    # find overall mean of image\n",
    "    mean_value = np.mean(img_array)\n",
    "    \n",
    "    print(mean_r_value)\n",
    "    print(mean_g_value)\n",
    "    print(mean_b_value)\n",
    "    print(mean_value)\n",
    "    "
   ]
  },
  {
   "cell_type": "markdown",
   "id": "570367a2",
   "metadata": {},
   "source": [
    "Each of the first three values computes the mean of a RGB color channel (0-255). A higher value means a greater pprevalence of that color. The final value is the overall brightness of the image, a lower value corresponds to a darker image.\n",
    "\n",
    "Let's see how the images look in general. I want to use the values we find here to compute a mean and standard deviation. Usually, people will divide each channel by 255 to center the values between 0 and 1, but we can get even better results by customizing this transformation to our dataset."
   ]
  },
  {
   "cell_type": "code",
   "execution_count": 17,
   "id": "01a96841",
   "metadata": {},
   "outputs": [
    {
     "name": "stderr",
     "output_type": "stream",
     "text": [
      "/var/folders/vq/1vm3d1qd40dc31fh9jl7k1fc0000gn/T/ipykernel_31197/2468636279.py:23: UserWarning: FigureCanvasAgg is non-interactive, and thus cannot be shown\n",
      "  plt.show()\n"
     ]
    }
   ],
   "source": [
    "mean_r, mean_g, mean_b, mean_all = [], [], [], []\n",
    "all_img_names = os.listdir(POSTER_DIR_FINAL)\n",
    "random_indexes = np.random.randint(0, len(all_img_names), size=1000)\n",
    "for i in random_indexes:\n",
    "    img_path = os.path.join(POSTER_DIR_FINAL, all_img_names[i])\n",
    "    \n",
    "    with Image.open(img_path) as img:\n",
    "        img = img.convert('RGB')\n",
    "        arr = np.array(img)\n",
    "        mean_r.append(np.mean(arr[:, :, 0]))\n",
    "        mean_g.append(np.mean(arr[:, :, 1]))\n",
    "        mean_b.append(np.mean(arr[:, :, 2]))\n",
    "        mean_all.append(np.mean(arr))\n",
    "\n",
    "plt.figure(figsize=(12, 6))\n",
    "sns.histplot(mean_r, color='r', label='Red', kde=True)\n",
    "sns.histplot(mean_g, color='g', label='Green', kde=True)\n",
    "sns.histplot(mean_b, color='b', label='Blue', kde=True)\n",
    "plt.title(\"Distribution of Mean Pixel Values (RGB Channels)\")\n",
    "plt.xlabel(\"Mean Value (0-255)\")\n",
    "plt.ylabel(\"Frequency\")\n",
    "plt.legend()\n",
    "plt.show()\n"
   ]
  },
  {
   "cell_type": "code",
   "execution_count": 19,
   "id": "6fdc6849",
   "metadata": {},
   "outputs": [
    {
     "name": "stderr",
     "output_type": "stream",
     "text": [
      "100%|██████████| 6063/6063 [00:05<00:00, 1076.51it/s]"
     ]
    },
    {
     "name": "stdout",
     "output_type": "stream",
     "text": [
      "Dataset Mean (R, G, B):\ttensor([0.4849, 0.4309, 0.4019])\n",
      "Dataset Std (R, G, B):\ttensor([0.3589, 0.3404, 0.3360])\n"
     ]
    },
    {
     "name": "stderr",
     "output_type": "stream",
     "text": [
      "\n"
     ]
    }
   ],
   "source": [
    "# for transformation later, we have to compute the overall mean by channel instead of the individual imgs\n",
    "channel_sum = torch.zeros(3)\n",
    "channel_sq_sum = torch.zeros(3)\n",
    "num_pixels = 0\n",
    "\n",
    "# need to transform the images before computing the stats, this caused an error later where normalization\n",
    "# did not occur properly because the mean and std were different after images are resized\n",
    "stats_transforms = transforms.Compose([\n",
    "    transforms.Resize((231, 154)),\n",
    "    transforms.ToTensor(),\n",
    "])\n",
    "\n",
    "for img_name in tqdm(all_img_names):\n",
    "    img_path = os.path.join(POSTER_DIR_FINAL, img_name)\n",
    "    \n",
    "    with Image.open(img_path).convert('RGB') as img:\n",
    "        # apply same preprocessing as later\n",
    "        img_array = stats_transforms(img) # shape (3, 231, 154)\n",
    "        \n",
    "        channel_sum += img_array.sum(dim=(1, 2))\n",
    "        channel_sq_sum += (img_array ** 2).sum(dim=(1, 2))\n",
    "        num_pixels += img_array.shape[1] * img_array.shape[2]\n",
    "\n",
    "mean = channel_sum / num_pixels\n",
    "# using formula Var(X) = E[X^2] - (E[X])^2\n",
    "std = torch.sqrt(channel_sq_sum / num_pixels - mean ** 2)\n",
    "\n",
    "print(f\"Dataset Mean (R, G, B):\\t{mean}\")\n",
    "print(f\"Dataset Std (R, G, B):\\t{std}\")"
   ]
  },
  {
   "cell_type": "markdown",
   "id": "360195b1",
   "metadata": {},
   "source": [
    "## Model Creation"
   ]
  },
  {
   "cell_type": "markdown",
   "id": "e66676c2",
   "metadata": {},
   "source": [
    "### Create Torch Dataset from Directory\n",
    "\n",
    "First creating a custom dataset class as referenced by the [torch manuals](https://docs.pytorch.org/tutorials/beginner/data_loading_tutorial.html)"
   ]
  },
  {
   "cell_type": "code",
   "execution_count": 20,
   "id": "ef3d7206",
   "metadata": {},
   "outputs": [],
   "source": [
    "class PosterDataset(Dataset):\n",
    "    def __init__(self, dataframe, image_dir, transform=None, useEras=True):\n",
    "        self.df = dataframe.reset_index(drop=True)\n",
    "        self.image_dir = image_dir\n",
    "        self.transform = transform\n",
    "        self.labels2idx = { label: idx for idx, label in enumerate(self.df['era'].unique()) } if useEras else {}\n",
    "        self.idx2label = { idx: label for label, idx in self.labels2idx.items() }\n",
    "        \n",
    "    def __len__(self):\n",
    "        return len(self.df)\n",
    "    \n",
    "    def __getitem__(self, index):\n",
    "        img_name = self.df.loc[index, 'filename']\n",
    "        label = self.df.loc[index, 'era']\n",
    "        label_index = self.labels2idx[label]\n",
    "        \n",
    "        full_img_path = os.path.join(self.image_dir, img_name)\n",
    "        img = Image.open(full_img_path).convert(\"RGB\")\n",
    "        \n",
    "        if self.transform:\n",
    "            image = self.transform(img)\n",
    "        \n",
    "        return { 'image':image, 'label':label_index }\n",
    "        "
   ]
  },
  {
   "cell_type": "code",
   "execution_count": 22,
   "id": "36cafe97",
   "metadata": {},
   "outputs": [
    {
     "name": "stdout",
     "output_type": "stream",
     "text": [
      "0\tImg Tensor Shape: torch.Size([16, 3, 231, 154])\n",
      "1\tImg Tensor Shape: torch.Size([16, 3, 231, 154])\n",
      "2\tImg Tensor Shape: torch.Size([16, 3, 231, 154])\n",
      "3\tImg Tensor Shape: torch.Size([16, 3, 231, 154])\n",
      "4\tImg Tensor Shape: torch.Size([16, 3, 231, 154])\n",
      "5\tImg Tensor Shape: torch.Size([16, 3, 231, 154])\n"
     ]
    }
   ],
   "source": [
    "image_transforms = transforms.Compose([\n",
    "\ttransforms.Resize((231, 154)),\n",
    "\t# to tensor automatically perfroms the / 255\n",
    "\ttransforms.ToTensor(),\n",
    "\t# now we can use the mean and std dev computed early to normalize into the range [-1, 1]\n",
    "\ttransforms.Normalize(mean=mean, std=std),\n",
    "])\n",
    "\n",
    "dataset = PosterDataset(df[['filename', 'era']], image_dir=POSTER_DIR_FINAL, transform=image_transforms)\n",
    "train_size = int(0.8 * len(dataset))\n",
    "test_size = len(dataset) - train_size\n",
    "\n",
    "train_ds, test_ds = random_split(dataset, [train_size, test_size])\n",
    "train_loader = DataLoader(train_ds, batch_size=16, shuffle=True)\n",
    "test_loader = DataLoader(test_ds, batch_size=16)\n",
    "\n",
    "for i, sample in enumerate(train_loader):\n",
    "    print(f\"{i}\\tImg Tensor Shape: {sample['image'].shape}\")\n",
    "    \n",
    "    if i == 5:\n",
    "        break"
   ]
  },
  {
   "cell_type": "markdown",
   "id": "e43e232f",
   "metadata": {},
   "source": [
    "## Model Definition"
   ]
  },
  {
   "cell_type": "code",
   "execution_count": null,
   "id": "efb45c61",
   "metadata": {},
   "outputs": [],
   "source": []
  }
 ],
 "metadata": {
  "kernelspec": {
   "display_name": "base",
   "language": "python",
   "name": "python3"
  },
  "language_info": {
   "codemirror_mode": {
    "name": "ipython",
    "version": 3
   },
   "file_extension": ".py",
   "mimetype": "text/x-python",
   "name": "python",
   "nbconvert_exporter": "python",
   "pygments_lexer": "ipython3",
   "version": "3.12.7"
  }
 },
 "nbformat": 4,
 "nbformat_minor": 5
}
